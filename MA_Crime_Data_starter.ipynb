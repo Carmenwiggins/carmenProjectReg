{
 "cells": [
  {
   "cell_type": "code",
   "execution_count": 1,
   "id": "72073543",
   "metadata": {},
   "outputs": [],
   "source": [
    "# Dependencies and Setup\n",
    "%matplotlib inline\n",
    "import matplotlib.pyplot as plt\n",
    "import matplotlib.patches as mpatches\n",
    "import pandas as pd\n",
    "import matplotlib.pyplot as plt\n",
    "import scipy.stats as st\n",
    "import numpy as np\n",
    "import requests\n",
    "import time\n",
    "import seaborn as sns\n",
    "from scipy.stats import linregress\n",
    "import plotly.express as px\n"
   ]
  },
  {
   "cell_type": "code",
   "execution_count": 2,
   "id": "bac69a28",
   "metadata": {},
   "outputs": [
    {
     "name": "stderr",
     "output_type": "stream",
     "text": [
      "/var/folders/l0/wm_67kcd74bgs_0_3k_rgsn40000gn/T/ipykernel_56805/3496189929.py:6: DtypeWarning: Columns (1,7,13) have mixed types. Specify dtype option on import or set low_memory=False.\n",
      "  crime_data= pd.read_csv(Ma_Crime)\n"
     ]
    },
    {
     "data": {
      "text/html": [
       "<div>\n",
       "<style scoped>\n",
       "    .dataframe tbody tr th:only-of-type {\n",
       "        vertical-align: middle;\n",
       "    }\n",
       "\n",
       "    .dataframe tbody tr th {\n",
       "        vertical-align: top;\n",
       "    }\n",
       "\n",
       "    .dataframe thead th {\n",
       "        text-align: right;\n",
       "    }\n",
       "</style>\n",
       "<table border=\"1\" class=\"dataframe\">\n",
       "  <thead>\n",
       "    <tr style=\"text-align: right;\">\n",
       "      <th></th>\n",
       "      <th>_id</th>\n",
       "      <th>INCIDENT_NUMBER</th>\n",
       "      <th>OFFENSE_CODE</th>\n",
       "      <th>OFFENSE_CODE_GROUP</th>\n",
       "      <th>OFFENSE_DESCRIPTION</th>\n",
       "      <th>DISTRICT</th>\n",
       "      <th>REPORTING_AREA</th>\n",
       "      <th>SHOOTING</th>\n",
       "      <th>OCCURRED_ON_DATE</th>\n",
       "      <th>YEAR</th>\n",
       "      <th>MONTH</th>\n",
       "      <th>DAY_OF_WEEK</th>\n",
       "      <th>HOUR</th>\n",
       "      <th>UCR_PART</th>\n",
       "      <th>STREET</th>\n",
       "      <th>Lat</th>\n",
       "      <th>Long</th>\n",
       "      <th>Location</th>\n",
       "    </tr>\n",
       "  </thead>\n",
       "  <tbody>\n",
       "    <tr>\n",
       "      <th>0</th>\n",
       "      <td>2603</td>\n",
       "      <td>I182002786</td>\n",
       "      <td>111</td>\n",
       "      <td>Homicide</td>\n",
       "      <td>MURDER, NON-NEGLIGIENT MANSLAUGHTER</td>\n",
       "      <td>B2</td>\n",
       "      <td>909</td>\n",
       "      <td>Y</td>\n",
       "      <td>1/11/18 13:46</td>\n",
       "      <td>2018</td>\n",
       "      <td>1</td>\n",
       "      <td>Thursday</td>\n",
       "      <td>13</td>\n",
       "      <td>Part One</td>\n",
       "      <td>WHITTIER ST</td>\n",
       "      <td>42.333802</td>\n",
       "      <td>-71.088809</td>\n",
       "      <td>(42.33380238, -71.08880867)</td>\n",
       "    </tr>\n",
       "    <tr>\n",
       "      <th>1</th>\n",
       "      <td>2611</td>\n",
       "      <td>I182002801</td>\n",
       "      <td>111</td>\n",
       "      <td>Homicide</td>\n",
       "      <td>MURDER, NON-NEGLIGIENT MANSLAUGHTER</td>\n",
       "      <td>B2</td>\n",
       "      <td>259</td>\n",
       "      <td>Y</td>\n",
       "      <td>1/11/18 14:03</td>\n",
       "      <td>2018</td>\n",
       "      <td>1</td>\n",
       "      <td>Thursday</td>\n",
       "      <td>14</td>\n",
       "      <td>Part One</td>\n",
       "      <td>NaN</td>\n",
       "      <td>42.305451</td>\n",
       "      <td>-71.080572</td>\n",
       "      <td>(42.30545103, -71.08057209)</td>\n",
       "    </tr>\n",
       "    <tr>\n",
       "      <th>2</th>\n",
       "      <td>2612</td>\n",
       "      <td>I182002801</td>\n",
       "      <td>111</td>\n",
       "      <td>Homicide</td>\n",
       "      <td>MURDER, NON-NEGLIGIENT MANSLAUGHTER</td>\n",
       "      <td>B2</td>\n",
       "      <td>259</td>\n",
       "      <td>Y</td>\n",
       "      <td>1/11/18 14:03</td>\n",
       "      <td>2018</td>\n",
       "      <td>1</td>\n",
       "      <td>Thursday</td>\n",
       "      <td>14</td>\n",
       "      <td>Part One</td>\n",
       "      <td>NaN</td>\n",
       "      <td>42.305451</td>\n",
       "      <td>-71.080572</td>\n",
       "      <td>(42.30545103, -71.08057209)</td>\n",
       "    </tr>\n",
       "    <tr>\n",
       "      <th>3</th>\n",
       "      <td>3338</td>\n",
       "      <td>I182003512</td>\n",
       "      <td>111</td>\n",
       "      <td>Homicide</td>\n",
       "      <td>MURDER, NON-NEGLIGIENT MANSLAUGHTER</td>\n",
       "      <td>D4</td>\n",
       "      <td></td>\n",
       "      <td>Y</td>\n",
       "      <td>1/13/18 21:34</td>\n",
       "      <td>2018</td>\n",
       "      <td>1</td>\n",
       "      <td>Saturday</td>\n",
       "      <td>21</td>\n",
       "      <td>Part One</td>\n",
       "      <td>BOYLSTON ST</td>\n",
       "      <td>NaN</td>\n",
       "      <td>NaN</td>\n",
       "      <td>NaN</td>\n",
       "    </tr>\n",
       "    <tr>\n",
       "      <th>4</th>\n",
       "      <td>3340</td>\n",
       "      <td>I182003512</td>\n",
       "      <td>111</td>\n",
       "      <td>Homicide</td>\n",
       "      <td>MURDER, NON-NEGLIGIENT MANSLAUGHTER</td>\n",
       "      <td>D4</td>\n",
       "      <td></td>\n",
       "      <td>Y</td>\n",
       "      <td>1/13/18 21:34</td>\n",
       "      <td>2018</td>\n",
       "      <td>1</td>\n",
       "      <td>Saturday</td>\n",
       "      <td>21</td>\n",
       "      <td>Part One</td>\n",
       "      <td>BOYLSTON ST</td>\n",
       "      <td>NaN</td>\n",
       "      <td>NaN</td>\n",
       "      <td>NaN</td>\n",
       "    </tr>\n",
       "    <tr>\n",
       "      <th>...</th>\n",
       "      <td>...</td>\n",
       "      <td>...</td>\n",
       "      <td>...</td>\n",
       "      <td>...</td>\n",
       "      <td>...</td>\n",
       "      <td>...</td>\n",
       "      <td>...</td>\n",
       "      <td>...</td>\n",
       "      <td>...</td>\n",
       "      <td>...</td>\n",
       "      <td>...</td>\n",
       "      <td>...</td>\n",
       "      <td>...</td>\n",
       "      <td>...</td>\n",
       "      <td>...</td>\n",
       "      <td>...</td>\n",
       "      <td>...</td>\n",
       "      <td>...</td>\n",
       "    </tr>\n",
       "    <tr>\n",
       "      <th>224537</th>\n",
       "      <td>401947</td>\n",
       "      <td>222100247</td>\n",
       "      <td>3803</td>\n",
       "      <td>Motor Vehicle Accident</td>\n",
       "      <td>M/V ACCIDENT - PERSONAL INJURY</td>\n",
       "      <td>D4</td>\n",
       "      <td></td>\n",
       "      <td>0</td>\n",
       "      <td>12/28/22 18:08</td>\n",
       "      <td>2022</td>\n",
       "      <td>12</td>\n",
       "      <td>Wednesday</td>\n",
       "      <td>18</td>\n",
       "      <td>NaN</td>\n",
       "      <td>TREMONT ST &amp; APPLETON ST\\nBOSTON  MA 02116\\nUN...</td>\n",
       "      <td>42.346539</td>\n",
       "      <td>-71.069114</td>\n",
       "      <td>(42.346539016466174, -71.06911401009671)</td>\n",
       "    </tr>\n",
       "    <tr>\n",
       "      <th>224538</th>\n",
       "      <td>402051</td>\n",
       "      <td>222100383</td>\n",
       "      <td>3803</td>\n",
       "      <td>Motor Vehicle Accident</td>\n",
       "      <td>M/V ACCIDENT - PERSONAL INJURY</td>\n",
       "      <td>B2</td>\n",
       "      <td>309</td>\n",
       "      <td>0</td>\n",
       "      <td>12/29/22 12:15</td>\n",
       "      <td>2022</td>\n",
       "      <td>12</td>\n",
       "      <td>Thursday</td>\n",
       "      <td>12</td>\n",
       "      <td>NaN</td>\n",
       "      <td>WARREN STREET</td>\n",
       "      <td>NaN</td>\n",
       "      <td>NaN</td>\n",
       "      <td>NaN</td>\n",
       "    </tr>\n",
       "    <tr>\n",
       "      <th>224539</th>\n",
       "      <td>402292</td>\n",
       "      <td>220601970</td>\n",
       "      <td>3803</td>\n",
       "      <td>Motor Vehicle Accident</td>\n",
       "      <td>M/V ACCIDENT - PERSONAL INJURY</td>\n",
       "      <td>B3</td>\n",
       "      <td>426</td>\n",
       "      <td>0</td>\n",
       "      <td>12/30/22 18:12</td>\n",
       "      <td>2022</td>\n",
       "      <td>12</td>\n",
       "      <td>Friday</td>\n",
       "      <td>18</td>\n",
       "      <td>NaN</td>\n",
       "      <td>FREMONT ST &amp; BABSON ST\\nBOSTON  MA 02126\\nUNIT...</td>\n",
       "      <td>42.271200</td>\n",
       "      <td>-71.092390</td>\n",
       "      <td>(42.27120003650123, -71.09239000036666)</td>\n",
       "    </tr>\n",
       "    <tr>\n",
       "      <th>224540</th>\n",
       "      <td>402323</td>\n",
       "      <td>222100809</td>\n",
       "      <td>3803</td>\n",
       "      <td>Motor Vehicle Accident</td>\n",
       "      <td>M/V ACCIDENT - PERSONAL INJURY</td>\n",
       "      <td>B3</td>\n",
       "      <td>477</td>\n",
       "      <td>0</td>\n",
       "      <td>12/30/22 21:27</td>\n",
       "      <td>2022</td>\n",
       "      <td>12</td>\n",
       "      <td>Friday</td>\n",
       "      <td>21</td>\n",
       "      <td>NaN</td>\n",
       "      <td>HARVARD ST</td>\n",
       "      <td>42.276087</td>\n",
       "      <td>-71.108341</td>\n",
       "      <td>(42.27608689065455, -71.10834131020634)</td>\n",
       "    </tr>\n",
       "    <tr>\n",
       "      <th>224541</th>\n",
       "      <td>402466</td>\n",
       "      <td>222101002</td>\n",
       "      <td>3803</td>\n",
       "      <td>Motor Vehicle Accident</td>\n",
       "      <td>M/V ACCIDENT - PERSONAL INJURY</td>\n",
       "      <td>B3</td>\n",
       "      <td></td>\n",
       "      <td>0</td>\n",
       "      <td>12/31/22 16:20</td>\n",
       "      <td>2022</td>\n",
       "      <td>12</td>\n",
       "      <td>Saturday</td>\n",
       "      <td>16</td>\n",
       "      <td>NaN</td>\n",
       "      <td>LYFORD ST &amp; STRATTON ST\\nDORCHESTER  MA 02124\\...</td>\n",
       "      <td>42.288758</td>\n",
       "      <td>-71.083827</td>\n",
       "      <td>(42.2887580281569, -71.08382702928915)</td>\n",
       "    </tr>\n",
       "  </tbody>\n",
       "</table>\n",
       "<p>224542 rows × 18 columns</p>\n",
       "</div>"
      ],
      "text/plain": [
       "           _id INCIDENT_NUMBER  OFFENSE_CODE       OFFENSE_CODE_GROUP  \\\n",
       "0         2603      I182002786           111                 Homicide   \n",
       "1         2611      I182002801           111                 Homicide   \n",
       "2         2612      I182002801           111                 Homicide   \n",
       "3         3338      I182003512           111                 Homicide   \n",
       "4         3340      I182003512           111                 Homicide   \n",
       "...        ...             ...           ...                      ...   \n",
       "224537  401947       222100247          3803  Motor Vehicle Accident    \n",
       "224538  402051       222100383          3803  Motor Vehicle Accident    \n",
       "224539  402292       220601970          3803  Motor Vehicle Accident    \n",
       "224540  402323       222100809          3803  Motor Vehicle Accident    \n",
       "224541  402466       222101002          3803  Motor Vehicle Accident    \n",
       "\n",
       "                        OFFENSE_DESCRIPTION DISTRICT REPORTING_AREA SHOOTING  \\\n",
       "0       MURDER, NON-NEGLIGIENT MANSLAUGHTER       B2            909        Y   \n",
       "1       MURDER, NON-NEGLIGIENT MANSLAUGHTER       B2            259        Y   \n",
       "2       MURDER, NON-NEGLIGIENT MANSLAUGHTER       B2            259        Y   \n",
       "3       MURDER, NON-NEGLIGIENT MANSLAUGHTER       D4                       Y   \n",
       "4       MURDER, NON-NEGLIGIENT MANSLAUGHTER       D4                       Y   \n",
       "...                                     ...      ...            ...      ...   \n",
       "224537       M/V ACCIDENT - PERSONAL INJURY       D4                       0   \n",
       "224538       M/V ACCIDENT - PERSONAL INJURY       B2            309        0   \n",
       "224539       M/V ACCIDENT - PERSONAL INJURY       B3            426        0   \n",
       "224540       M/V ACCIDENT - PERSONAL INJURY       B3            477        0   \n",
       "224541       M/V ACCIDENT - PERSONAL INJURY       B3                       0   \n",
       "\n",
       "       OCCURRED_ON_DATE  YEAR  MONTH DAY_OF_WEEK  HOUR  UCR_PART  \\\n",
       "0         1/11/18 13:46  2018      1    Thursday    13  Part One   \n",
       "1         1/11/18 14:03  2018      1    Thursday    14  Part One   \n",
       "2         1/11/18 14:03  2018      1    Thursday    14  Part One   \n",
       "3         1/13/18 21:34  2018      1    Saturday    21  Part One   \n",
       "4         1/13/18 21:34  2018      1    Saturday    21  Part One   \n",
       "...                 ...   ...    ...         ...   ...       ...   \n",
       "224537   12/28/22 18:08  2022     12   Wednesday    18       NaN   \n",
       "224538   12/29/22 12:15  2022     12    Thursday    12       NaN   \n",
       "224539   12/30/22 18:12  2022     12      Friday    18       NaN   \n",
       "224540   12/30/22 21:27  2022     12      Friday    21       NaN   \n",
       "224541   12/31/22 16:20  2022     12    Saturday    16       NaN   \n",
       "\n",
       "                                                   STREET        Lat  \\\n",
       "0                                             WHITTIER ST  42.333802   \n",
       "1                                                     NaN  42.305451   \n",
       "2                                                     NaN  42.305451   \n",
       "3                                             BOYLSTON ST        NaN   \n",
       "4                                             BOYLSTON ST        NaN   \n",
       "...                                                   ...        ...   \n",
       "224537  TREMONT ST & APPLETON ST\\nBOSTON  MA 02116\\nUN...  42.346539   \n",
       "224538                                      WARREN STREET        NaN   \n",
       "224539  FREMONT ST & BABSON ST\\nBOSTON  MA 02126\\nUNIT...  42.271200   \n",
       "224540                                         HARVARD ST  42.276087   \n",
       "224541  LYFORD ST & STRATTON ST\\nDORCHESTER  MA 02124\\...  42.288758   \n",
       "\n",
       "             Long                                  Location  \n",
       "0      -71.088809               (42.33380238, -71.08880867)  \n",
       "1      -71.080572               (42.30545103, -71.08057209)  \n",
       "2      -71.080572               (42.30545103, -71.08057209)  \n",
       "3             NaN                                       NaN  \n",
       "4             NaN                                       NaN  \n",
       "...           ...                                       ...  \n",
       "224537 -71.069114  (42.346539016466174, -71.06911401009671)  \n",
       "224538        NaN                                       NaN  \n",
       "224539 -71.092390   (42.27120003650123, -71.09239000036666)  \n",
       "224540 -71.108341   (42.27608689065455, -71.10834131020634)  \n",
       "224541 -71.083827    (42.2887580281569, -71.08382702928915)  \n",
       "\n",
       "[224542 rows x 18 columns]"
      ]
     },
     "execution_count": 2,
     "metadata": {},
     "output_type": "execute_result"
    }
   ],
   "source": [
    "# Study data files\"\n",
    "Ma_Crime = \"Ma_crime_by_year.csv\"\n",
    "\n",
    "\n",
    "#Read the data\n",
    "crime_data= pd.read_csv(Ma_Crime)\n",
    "crime_data\n",
    "\n"
   ]
  },
  {
   "cell_type": "code",
   "execution_count": 3,
   "id": "b5934ad1",
   "metadata": {},
   "outputs": [
    {
     "data": {
      "text/html": [
       "<div>\n",
       "<style scoped>\n",
       "    .dataframe tbody tr th:only-of-type {\n",
       "        vertical-align: middle;\n",
       "    }\n",
       "\n",
       "    .dataframe tbody tr th {\n",
       "        vertical-align: top;\n",
       "    }\n",
       "\n",
       "    .dataframe thead th {\n",
       "        text-align: right;\n",
       "    }\n",
       "</style>\n",
       "<table border=\"1\" class=\"dataframe\">\n",
       "  <thead>\n",
       "    <tr style=\"text-align: right;\">\n",
       "      <th></th>\n",
       "      <th>YEAR</th>\n",
       "      <th>OFFENSE_CODE_GROUP</th>\n",
       "      <th>CRIME_COUNT</th>\n",
       "    </tr>\n",
       "  </thead>\n",
       "  <tbody>\n",
       "    <tr>\n",
       "      <th>0</th>\n",
       "      <td>2018</td>\n",
       "      <td>Aggravated Assault</td>\n",
       "      <td>2485</td>\n",
       "    </tr>\n",
       "    <tr>\n",
       "      <th>1</th>\n",
       "      <td>2018</td>\n",
       "      <td>Aircraft</td>\n",
       "      <td>18</td>\n",
       "    </tr>\n",
       "    <tr>\n",
       "      <th>2</th>\n",
       "      <td>2018</td>\n",
       "      <td>Arson</td>\n",
       "      <td>18</td>\n",
       "    </tr>\n",
       "    <tr>\n",
       "      <th>3</th>\n",
       "      <td>2018</td>\n",
       "      <td>Assembly or Gathering Violations</td>\n",
       "      <td>199</td>\n",
       "    </tr>\n",
       "    <tr>\n",
       "      <th>4</th>\n",
       "      <td>2018</td>\n",
       "      <td>Auto Theft Recovery</td>\n",
       "      <td>347</td>\n",
       "    </tr>\n",
       "    <tr>\n",
       "      <th>...</th>\n",
       "      <td>...</td>\n",
       "      <td>...</td>\n",
       "      <td>...</td>\n",
       "    </tr>\n",
       "    <tr>\n",
       "      <th>174</th>\n",
       "      <td>2022</td>\n",
       "      <td>Robery</td>\n",
       "      <td>212</td>\n",
       "    </tr>\n",
       "    <tr>\n",
       "      <th>175</th>\n",
       "      <td>2022</td>\n",
       "      <td>Theft</td>\n",
       "      <td>1619</td>\n",
       "    </tr>\n",
       "    <tr>\n",
       "      <th>176</th>\n",
       "      <td>2022</td>\n",
       "      <td>Trespassing</td>\n",
       "      <td>320</td>\n",
       "    </tr>\n",
       "    <tr>\n",
       "      <th>177</th>\n",
       "      <td>2022</td>\n",
       "      <td>Vandalism</td>\n",
       "      <td>2970</td>\n",
       "    </tr>\n",
       "    <tr>\n",
       "      <th>178</th>\n",
       "      <td>2022</td>\n",
       "      <td>Weapon</td>\n",
       "      <td>305</td>\n",
       "    </tr>\n",
       "  </tbody>\n",
       "</table>\n",
       "<p>179 rows × 3 columns</p>\n",
       "</div>"
      ],
      "text/plain": [
       "     YEAR                OFFENSE_CODE_GROUP  CRIME_COUNT\n",
       "0    2018                Aggravated Assault         2485\n",
       "1    2018                          Aircraft           18\n",
       "2    2018                             Arson           18\n",
       "3    2018  Assembly or Gathering Violations          199\n",
       "4    2018               Auto Theft Recovery          347\n",
       "..    ...                               ...          ...\n",
       "174  2022                            Robery          212\n",
       "175  2022                             Theft         1619\n",
       "176  2022                       Trespassing          320\n",
       "177  2022                         Vandalism         2970\n",
       "178  2022                            Weapon          305\n",
       "\n",
       "[179 rows x 3 columns]"
      ]
     },
     "execution_count": 3,
     "metadata": {},
     "output_type": "execute_result"
    }
   ],
   "source": [
    "# group the crime data by Year/offence code group-name for years 2018-2022\n",
    "\n",
    "year_crime = crime_data.groupby([\"YEAR\", \"OFFENSE_CODE_GROUP\"]).size().reset_index(name='CRIME_COUNT')\n",
    "year_crime\n",
    "\n"
   ]
  },
  {
   "cell_type": "code",
   "execution_count": 4,
   "id": "c071f7dd",
   "metadata": {},
   "outputs": [
    {
     "data": {
      "text/html": [
       "<div>\n",
       "<style scoped>\n",
       "    .dataframe tbody tr th:only-of-type {\n",
       "        vertical-align: middle;\n",
       "    }\n",
       "\n",
       "    .dataframe tbody tr th {\n",
       "        vertical-align: top;\n",
       "    }\n",
       "\n",
       "    .dataframe thead th {\n",
       "        text-align: right;\n",
       "    }\n",
       "</style>\n",
       "<table border=\"1\" class=\"dataframe\">\n",
       "  <thead>\n",
       "    <tr style=\"text-align: right;\">\n",
       "      <th></th>\n",
       "      <th>YEAR</th>\n",
       "      <th>OFFENSE_CODE_GROUP</th>\n",
       "      <th>CRIME_COUNT</th>\n",
       "    </tr>\n",
       "  </thead>\n",
       "  <tbody>\n",
       "    <tr>\n",
       "      <th>38</th>\n",
       "      <td>2018</td>\n",
       "      <td>Motor Vehicle Accident Response</td>\n",
       "      <td>10147</td>\n",
       "    </tr>\n",
       "    <tr>\n",
       "      <th>34</th>\n",
       "      <td>2018</td>\n",
       "      <td>Medical Assistance</td>\n",
       "      <td>8257</td>\n",
       "    </tr>\n",
       "    <tr>\n",
       "      <th>29</th>\n",
       "      <td>2018</td>\n",
       "      <td>Larceny</td>\n",
       "      <td>8116</td>\n",
       "    </tr>\n",
       "    <tr>\n",
       "      <th>89</th>\n",
       "      <td>2019</td>\n",
       "      <td>Larceny</td>\n",
       "      <td>7811</td>\n",
       "    </tr>\n",
       "    <tr>\n",
       "      <th>119</th>\n",
       "      <td>2020</td>\n",
       "      <td>Larceny</td>\n",
       "      <td>6250</td>\n",
       "    </tr>\n",
       "    <tr>\n",
       "      <th>...</th>\n",
       "      <td>...</td>\n",
       "      <td>...</td>\n",
       "      <td>...</td>\n",
       "    </tr>\n",
       "    <tr>\n",
       "      <th>22</th>\n",
       "      <td>2018</td>\n",
       "      <td>HUMAN TRAFFICKING</td>\n",
       "      <td>1</td>\n",
       "    </tr>\n",
       "    <tr>\n",
       "      <th>139</th>\n",
       "      <td>2021</td>\n",
       "      <td>Fire</td>\n",
       "      <td>1</td>\n",
       "    </tr>\n",
       "    <tr>\n",
       "      <th>169</th>\n",
       "      <td>2022</td>\n",
       "      <td>Manslaughter</td>\n",
       "      <td>1</td>\n",
       "    </tr>\n",
       "    <tr>\n",
       "      <th>155</th>\n",
       "      <td>2021</td>\n",
       "      <td>conspircy drug</td>\n",
       "      <td>1</td>\n",
       "    </tr>\n",
       "    <tr>\n",
       "      <th>92</th>\n",
       "      <td>2019</td>\n",
       "      <td>Manslaughter</td>\n",
       "      <td>1</td>\n",
       "    </tr>\n",
       "  </tbody>\n",
       "</table>\n",
       "<p>179 rows × 3 columns</p>\n",
       "</div>"
      ],
      "text/plain": [
       "     YEAR               OFFENSE_CODE_GROUP  CRIME_COUNT\n",
       "38   2018  Motor Vehicle Accident Response        10147\n",
       "34   2018               Medical Assistance         8257\n",
       "29   2018                          Larceny         8116\n",
       "89   2019                          Larceny         7811\n",
       "119  2020                          Larceny         6250\n",
       "..    ...                              ...          ...\n",
       "22   2018                HUMAN TRAFFICKING            1\n",
       "139  2021                            Fire             1\n",
       "169  2022                     Manslaughter            1\n",
       "155  2021                   conspircy drug            1\n",
       "92   2019                     Manslaughter            1\n",
       "\n",
       "[179 rows x 3 columns]"
      ]
     },
     "execution_count": 4,
     "metadata": {},
     "output_type": "execute_result"
    }
   ],
   "source": [
    "#top SORTING DESCENDING ORDER crime\n",
    "Top_crime_df=year_crime.sort_values(['CRIME_COUNT'],ascending=False)\n",
    "Top_crime_df"
   ]
  },
  {
   "cell_type": "code",
   "execution_count": 5,
   "id": "ca21d323",
   "metadata": {},
   "outputs": [],
   "source": [
    "# Top_2018_crime= Top_crime_df.loc[(Top_crime_df[\"YEAR\"] == 2018)].head(10)\n",
    "# Top_2019_crime= Top_crime_df.loc[(Top_crime_df[\"YEAR\"] == 2019)].head(10)\n",
    "# Top_2020_crime= Top_crime_df.loc[(Top_crime_df[\"YEAR\"] == 2020)].head(10)\n",
    "# Top_2021_crime= Top_crime_df.loc[(Top_crime_df[\"YEAR\"] == 2021)].head(10)\n",
    "# Top_2022_crime= Top_crime_df.loc[(Top_crime_df[\"YEAR\"] == 2022)].head(10)\n",
    "\n"
   ]
  },
  {
   "cell_type": "code",
   "execution_count": 6,
   "id": "571e9a59",
   "metadata": {},
   "outputs": [
    {
     "data": {
      "text/html": [
       "<div>\n",
       "<style scoped>\n",
       "    .dataframe tbody tr th:only-of-type {\n",
       "        vertical-align: middle;\n",
       "    }\n",
       "\n",
       "    .dataframe tbody tr th {\n",
       "        vertical-align: top;\n",
       "    }\n",
       "\n",
       "    .dataframe thead th {\n",
       "        text-align: right;\n",
       "    }\n",
       "</style>\n",
       "<table border=\"1\" class=\"dataframe\">\n",
       "  <thead>\n",
       "    <tr style=\"text-align: right;\">\n",
       "      <th></th>\n",
       "      <th>YEAR</th>\n",
       "      <th>OFFENSE_CODE_GROUP</th>\n",
       "      <th>CRIME_COUNT</th>\n",
       "    </tr>\n",
       "  </thead>\n",
       "  <tbody>\n",
       "    <tr>\n",
       "      <th>38</th>\n",
       "      <td>2018</td>\n",
       "      <td>Motor Vehicle Accident Response</td>\n",
       "      <td>10147</td>\n",
       "    </tr>\n",
       "    <tr>\n",
       "      <th>34</th>\n",
       "      <td>2018</td>\n",
       "      <td>Medical Assistance</td>\n",
       "      <td>8257</td>\n",
       "    </tr>\n",
       "    <tr>\n",
       "      <th>29</th>\n",
       "      <td>2018</td>\n",
       "      <td>Larceny</td>\n",
       "      <td>8116</td>\n",
       "    </tr>\n",
       "    <tr>\n",
       "      <th>41</th>\n",
       "      <td>2018</td>\n",
       "      <td>Other</td>\n",
       "      <td>5600</td>\n",
       "    </tr>\n",
       "    <tr>\n",
       "      <th>26</th>\n",
       "      <td>2018</td>\n",
       "      <td>Investigate Person</td>\n",
       "      <td>5467</td>\n",
       "    </tr>\n",
       "    <tr>\n",
       "      <th>55</th>\n",
       "      <td>2018</td>\n",
       "      <td>Simple Assault</td>\n",
       "      <td>5262</td>\n",
       "    </tr>\n",
       "    <tr>\n",
       "      <th>13</th>\n",
       "      <td>2018</td>\n",
       "      <td>Drug Violation</td>\n",
       "      <td>4777</td>\n",
       "    </tr>\n",
       "    <tr>\n",
       "      <th>59</th>\n",
       "      <td>2018</td>\n",
       "      <td>Verbal Disputes</td>\n",
       "      <td>4423</td>\n",
       "    </tr>\n",
       "    <tr>\n",
       "      <th>58</th>\n",
       "      <td>2018</td>\n",
       "      <td>Vandalism</td>\n",
       "      <td>4252</td>\n",
       "    </tr>\n",
       "    <tr>\n",
       "      <th>27</th>\n",
       "      <td>2018</td>\n",
       "      <td>Investigate Property</td>\n",
       "      <td>3756</td>\n",
       "    </tr>\n",
       "    <tr>\n",
       "      <th>89</th>\n",
       "      <td>2019</td>\n",
       "      <td>Larceny</td>\n",
       "      <td>7811</td>\n",
       "    </tr>\n",
       "    <tr>\n",
       "      <th>65</th>\n",
       "      <td>2019</td>\n",
       "      <td>Assault</td>\n",
       "      <td>5079</td>\n",
       "    </tr>\n",
       "    <tr>\n",
       "      <th>103</th>\n",
       "      <td>2019</td>\n",
       "      <td>Vandalism</td>\n",
       "      <td>3626</td>\n",
       "    </tr>\n",
       "    <tr>\n",
       "      <th>83</th>\n",
       "      <td>2019</td>\n",
       "      <td>Fraud</td>\n",
       "      <td>2765</td>\n",
       "    </tr>\n",
       "    <tr>\n",
       "      <th>90</th>\n",
       "      <td>2019</td>\n",
       "      <td>Larceny</td>\n",
       "      <td>2643</td>\n",
       "    </tr>\n",
       "    <tr>\n",
       "      <th>63</th>\n",
       "      <td>2019</td>\n",
       "      <td>Aggravated Assault</td>\n",
       "      <td>2311</td>\n",
       "    </tr>\n",
       "    <tr>\n",
       "      <th>91</th>\n",
       "      <td>2019</td>\n",
       "      <td>MV Accidents</td>\n",
       "      <td>1944</td>\n",
       "    </tr>\n",
       "    <tr>\n",
       "      <th>76</th>\n",
       "      <td>2019</td>\n",
       "      <td>Drug Possession/Sale/use</td>\n",
       "      <td>1622</td>\n",
       "    </tr>\n",
       "    <tr>\n",
       "      <th>100</th>\n",
       "      <td>2019</td>\n",
       "      <td>Theft</td>\n",
       "      <td>1469</td>\n",
       "    </tr>\n",
       "    <tr>\n",
       "      <th>93</th>\n",
       "      <td>2019</td>\n",
       "      <td>Motor Vehicle Accident</td>\n",
       "      <td>1305</td>\n",
       "    </tr>\n",
       "    <tr>\n",
       "      <th>119</th>\n",
       "      <td>2020</td>\n",
       "      <td>Larceny</td>\n",
       "      <td>6250</td>\n",
       "    </tr>\n",
       "    <tr>\n",
       "      <th>117</th>\n",
       "      <td>2020</td>\n",
       "      <td>Fraud</td>\n",
       "      <td>4069</td>\n",
       "    </tr>\n",
       "    <tr>\n",
       "      <th>128</th>\n",
       "      <td>2020</td>\n",
       "      <td>Vandalism</td>\n",
       "      <td>3420</td>\n",
       "    </tr>\n",
       "    <tr>\n",
       "      <th>120</th>\n",
       "      <td>2020</td>\n",
       "      <td>Larceny</td>\n",
       "      <td>3160</td>\n",
       "    </tr>\n",
       "    <tr>\n",
       "      <th>109</th>\n",
       "      <td>2020</td>\n",
       "      <td>Assault</td>\n",
       "      <td>2607</td>\n",
       "    </tr>\n",
       "    <tr>\n",
       "      <th>107</th>\n",
       "      <td>2020</td>\n",
       "      <td>Aggravated Assault</td>\n",
       "      <td>1762</td>\n",
       "    </tr>\n",
       "    <tr>\n",
       "      <th>126</th>\n",
       "      <td>2020</td>\n",
       "      <td>Theft</td>\n",
       "      <td>1585</td>\n",
       "    </tr>\n",
       "    <tr>\n",
       "      <th>115</th>\n",
       "      <td>2020</td>\n",
       "      <td>Drug Possession/Sale/use</td>\n",
       "      <td>1379</td>\n",
       "    </tr>\n",
       "    <tr>\n",
       "      <th>111</th>\n",
       "      <td>2020</td>\n",
       "      <td>Burglary</td>\n",
       "      <td>952</td>\n",
       "    </tr>\n",
       "    <tr>\n",
       "      <th>121</th>\n",
       "      <td>2020</td>\n",
       "      <td>Motor Vehicle Accident</td>\n",
       "      <td>844</td>\n",
       "    </tr>\n",
       "    <tr>\n",
       "      <th>143</th>\n",
       "      <td>2021</td>\n",
       "      <td>Larceny</td>\n",
       "      <td>6006</td>\n",
       "    </tr>\n",
       "    <tr>\n",
       "      <th>153</th>\n",
       "      <td>2021</td>\n",
       "      <td>Vandalism</td>\n",
       "      <td>3397</td>\n",
       "    </tr>\n",
       "    <tr>\n",
       "      <th>132</th>\n",
       "      <td>2021</td>\n",
       "      <td>Assault</td>\n",
       "      <td>2795</td>\n",
       "    </tr>\n",
       "    <tr>\n",
       "      <th>144</th>\n",
       "      <td>2021</td>\n",
       "      <td>Larceny</td>\n",
       "      <td>2545</td>\n",
       "    </tr>\n",
       "    <tr>\n",
       "      <th>141</th>\n",
       "      <td>2021</td>\n",
       "      <td>Fraud</td>\n",
       "      <td>2278</td>\n",
       "    </tr>\n",
       "    <tr>\n",
       "      <th>138</th>\n",
       "      <td>2021</td>\n",
       "      <td>Drug Possession/Sale/use</td>\n",
       "      <td>1568</td>\n",
       "    </tr>\n",
       "    <tr>\n",
       "      <th>151</th>\n",
       "      <td>2021</td>\n",
       "      <td>Theft</td>\n",
       "      <td>1564</td>\n",
       "    </tr>\n",
       "    <tr>\n",
       "      <th>130</th>\n",
       "      <td>2021</td>\n",
       "      <td>Aggravated Assault</td>\n",
       "      <td>1546</td>\n",
       "    </tr>\n",
       "    <tr>\n",
       "      <th>146</th>\n",
       "      <td>2021</td>\n",
       "      <td>Motor Vehicle Accident</td>\n",
       "      <td>997</td>\n",
       "    </tr>\n",
       "    <tr>\n",
       "      <th>134</th>\n",
       "      <td>2021</td>\n",
       "      <td>Burglary</td>\n",
       "      <td>789</td>\n",
       "    </tr>\n",
       "    <tr>\n",
       "      <th>161</th>\n",
       "      <td>2022</td>\n",
       "      <td>Drug Other Narcotic</td>\n",
       "      <td>6165</td>\n",
       "    </tr>\n",
       "    <tr>\n",
       "      <th>167</th>\n",
       "      <td>2022</td>\n",
       "      <td>Larceny</td>\n",
       "      <td>6024</td>\n",
       "    </tr>\n",
       "    <tr>\n",
       "      <th>158</th>\n",
       "      <td>2022</td>\n",
       "      <td>Assault</td>\n",
       "      <td>2972</td>\n",
       "    </tr>\n",
       "    <tr>\n",
       "      <th>177</th>\n",
       "      <td>2022</td>\n",
       "      <td>Vandalism</td>\n",
       "      <td>2970</td>\n",
       "    </tr>\n",
       "    <tr>\n",
       "      <th>168</th>\n",
       "      <td>2022</td>\n",
       "      <td>Larceny</td>\n",
       "      <td>2471</td>\n",
       "    </tr>\n",
       "    <tr>\n",
       "      <th>165</th>\n",
       "      <td>2022</td>\n",
       "      <td>Fraud</td>\n",
       "      <td>2048</td>\n",
       "    </tr>\n",
       "    <tr>\n",
       "      <th>175</th>\n",
       "      <td>2022</td>\n",
       "      <td>Theft</td>\n",
       "      <td>1619</td>\n",
       "    </tr>\n",
       "    <tr>\n",
       "      <th>156</th>\n",
       "      <td>2022</td>\n",
       "      <td>Aggravated Assault</td>\n",
       "      <td>1606</td>\n",
       "    </tr>\n",
       "    <tr>\n",
       "      <th>163</th>\n",
       "      <td>2022</td>\n",
       "      <td>Drug Possession/Sale/use</td>\n",
       "      <td>1504</td>\n",
       "    </tr>\n",
       "    <tr>\n",
       "      <th>170</th>\n",
       "      <td>2022</td>\n",
       "      <td>Motor Vehicle Accident</td>\n",
       "      <td>932</td>\n",
       "    </tr>\n",
       "  </tbody>\n",
       "</table>\n",
       "</div>"
      ],
      "text/plain": [
       "     YEAR               OFFENSE_CODE_GROUP  CRIME_COUNT\n",
       "38   2018  Motor Vehicle Accident Response        10147\n",
       "34   2018               Medical Assistance         8257\n",
       "29   2018                          Larceny         8116\n",
       "41   2018                            Other         5600\n",
       "26   2018               Investigate Person         5467\n",
       "55   2018                   Simple Assault         5262\n",
       "13   2018                   Drug Violation         4777\n",
       "59   2018                  Verbal Disputes         4423\n",
       "58   2018                        Vandalism         4252\n",
       "27   2018             Investigate Property         3756\n",
       "89   2019                          Larceny         7811\n",
       "65   2019                          Assault         5079\n",
       "103  2019                        Vandalism         3626\n",
       "83   2019                            Fraud         2765\n",
       "90   2019                        Larceny           2643\n",
       "63   2019               Aggravated Assault         2311\n",
       "91   2019                     MV Accidents         1944\n",
       "76   2019         Drug Possession/Sale/use         1622\n",
       "100  2019                            Theft         1469\n",
       "93   2019          Motor Vehicle Accident          1305\n",
       "119  2020                          Larceny         6250\n",
       "117  2020                            Fraud         4069\n",
       "128  2020                        Vandalism         3420\n",
       "120  2020                        Larceny           3160\n",
       "109  2020                          Assault         2607\n",
       "107  2020               Aggravated Assault         1762\n",
       "126  2020                            Theft         1585\n",
       "115  2020         Drug Possession/Sale/use         1379\n",
       "111  2020                         Burglary          952\n",
       "121  2020          Motor Vehicle Accident           844\n",
       "143  2021                          Larceny         6006\n",
       "153  2021                        Vandalism         3397\n",
       "132  2021                          Assault         2795\n",
       "144  2021                        Larceny           2545\n",
       "141  2021                            Fraud         2278\n",
       "138  2021         Drug Possession/Sale/use         1568\n",
       "151  2021                            Theft         1564\n",
       "130  2021               Aggravated Assault         1546\n",
       "146  2021          Motor Vehicle Accident           997\n",
       "134  2021                         Burglary          789\n",
       "161  2022              Drug Other Narcotic         6165\n",
       "167  2022                          Larceny         6024\n",
       "158  2022                          Assault         2972\n",
       "177  2022                        Vandalism         2970\n",
       "168  2022                        Larceny           2471\n",
       "165  2022                            Fraud         2048\n",
       "175  2022                            Theft         1619\n",
       "156  2022               Aggravated Assault         1606\n",
       "163  2022         Drug Possession/Sale/use         1504\n",
       "170  2022          Motor Vehicle Accident           932"
      ]
     },
     "execution_count": 6,
     "metadata": {},
     "output_type": "execute_result"
    }
   ],
   "source": [
    "#Top 10 crime by offece per year 2018-2022\n",
    "Top_10_crime_years = pd.concat([Top_crime_df.loc[Top_crime_df[\"YEAR\"] == year]\\\n",
    "                             .head(10) for year in [2018, 2019, 2020, 2021, 2022]])\n",
    "Top_10_crime_years"
   ]
  },
  {
   "cell_type": "code",
   "execution_count": 7,
   "id": "d9b5cc99",
   "metadata": {},
   "outputs": [
    {
     "data": {
      "text/html": [
       "<div>\n",
       "<style scoped>\n",
       "    .dataframe tbody tr th:only-of-type {\n",
       "        vertical-align: middle;\n",
       "    }\n",
       "\n",
       "    .dataframe tbody tr th {\n",
       "        vertical-align: top;\n",
       "    }\n",
       "\n",
       "    .dataframe thead th {\n",
       "        text-align: right;\n",
       "    }\n",
       "</style>\n",
       "<table border=\"1\" class=\"dataframe\">\n",
       "  <thead>\n",
       "    <tr style=\"text-align: right;\">\n",
       "      <th></th>\n",
       "      <th>YEAR</th>\n",
       "      <th>OFFENSE_CODE_GROUP</th>\n",
       "      <th>CRIME_COUNT</th>\n",
       "    </tr>\n",
       "  </thead>\n",
       "  <tbody>\n",
       "    <tr>\n",
       "      <th>38</th>\n",
       "      <td>2018</td>\n",
       "      <td>Motor Vehicle Accident Response</td>\n",
       "      <td>10147</td>\n",
       "    </tr>\n",
       "    <tr>\n",
       "      <th>89</th>\n",
       "      <td>2019</td>\n",
       "      <td>Larceny</td>\n",
       "      <td>7811</td>\n",
       "    </tr>\n",
       "    <tr>\n",
       "      <th>119</th>\n",
       "      <td>2020</td>\n",
       "      <td>Larceny</td>\n",
       "      <td>6250</td>\n",
       "    </tr>\n",
       "    <tr>\n",
       "      <th>143</th>\n",
       "      <td>2021</td>\n",
       "      <td>Larceny</td>\n",
       "      <td>6006</td>\n",
       "    </tr>\n",
       "    <tr>\n",
       "      <th>161</th>\n",
       "      <td>2022</td>\n",
       "      <td>Drug Other Narcotic</td>\n",
       "      <td>6165</td>\n",
       "    </tr>\n",
       "  </tbody>\n",
       "</table>\n",
       "</div>"
      ],
      "text/plain": [
       "     YEAR               OFFENSE_CODE_GROUP  CRIME_COUNT\n",
       "38   2018  Motor Vehicle Accident Response        10147\n",
       "89   2019                          Larceny         7811\n",
       "119  2020                          Larceny         6250\n",
       "143  2021                          Larceny         6006\n",
       "161  2022              Drug Other Narcotic         6165"
      ]
     },
     "execution_count": 7,
     "metadata": {},
     "output_type": "execute_result"
    }
   ],
   "source": [
    "# Top_2018_crime= Top_crime_df.loc[(Top_crime_df[\"YEAR\"] == 2018)].head(1)\n",
    "# Top_2019_crime= Top_crime_df.loc[(Top_crime_df[\"YEAR\"] == 2019)].head(1)\n",
    "# Top_2020_crime= Top_crime_df.loc[(Top_crime_df[\"YEAR\"] == 2020)].head(1)\n",
    "# Top_2021_crime= Top_crime_df.loc[(Top_crime_df[\"YEAR\"] == 2021)].head(1)\n",
    "# Top_2022_crime= Top_crime_df.loc[(Top_crime_df[\"YEAR\"] == 2022)].head(1)\n",
    "\n",
    "Top_crime_years = pd.concat([Top_crime_df.loc[Top_crime_df[\"YEAR\"] == year]\\\n",
    "                             .head(1) for year in [2018, 2019, 2020, 2021, 2022]])\n",
    "Top_crime_years"
   ]
  },
  {
   "cell_type": "code",
   "execution_count": 8,
   "id": "a93839bb",
   "metadata": {},
   "outputs": [
    {
     "data": {
      "image/png": "[encoded data removed]",
      "text/plain": [
       "<Figure size 640x480 with 1 Axes>"
      ]
     },
     "metadata": {},
     "output_type": "display_data"
    }
   ],
   "source": [
    "#Top crime  between 2018 and 2022 pie chart pyplot\n",
    "y=Top_crime_years['CRIME_COUNT']\n",
    "labels=Top_crime_years['OFFENSE_CODE_GROUP']\n",
    "explode=(0.07,0,0,0,0)\n",
    "\n",
    "\n",
    "plt.title(\"Top Crime 2018-2022\")\n",
    "plt.pie(y, explode=explode, labels=labels,\n",
    "        autopct=\"%1.1f%%\", shadow=True, startangle=90)\n",
    "plt.axis(\"equal\")\n",
    "plt.savefig('pie_chart.jpeg')\n",
    "plt.show()"
   ]
  },
  {
   "cell_type": "code",
   "execution_count": 9,
   "id": "ef78ac6f",
   "metadata": {},
   "outputs": [
    {
     "data": {
      "image/png": "[encoded data removed]",
      "text/plain": [
       "<Figure size 1000x600 with 1 Axes>"
      ]
     },
     "metadata": {},
     "output_type": "display_data"
    }
   ],
   "source": [
    "#Bar chart for top crime per year\n",
    "\n",
    "# Define the data\n",
    "Top_crime_years = {\n",
    "    'YEAR': [2018, 2019, 2020, 2021, 2022],\n",
    "    'CRIME_COUNT': [10147, 7811, 6250, 6006, 6165],\n",
    "    'OFFENSE_CODE_GROUP': ['Motor Vehicle Accident Response', 'Larceny', 'Larceny', 'Larceny', 'Drug Other Narcotic']\n",
    "}\n",
    "\n",
    "# Define color mapping\n",
    "year_color_mapping = {\n",
    "    2018: 'blue',\n",
    "    2019: 'orange',\n",
    "    2020: 'green',\n",
    "    2021: 'red',\n",
    "    2022: 'purple'\n",
    "}\n",
    "offence_color_mapping = {\n",
    "    '2018 Motor Vehicle Accident Response': 'blue',\n",
    "    '2019 Larceny': 'orange',\n",
    "   '2020 Larceny': 'green',\n",
    "    '2021 Larceny': 'red',\n",
    "   '2022 Drug Other Narcotic': 'purple'\n",
    "}\n",
    "\n",
    "# Create DataFrame\n",
    "Top_crime = pd.DataFrame(Top_crime_years)\n",
    "\n",
    "# Plotting\n",
    "fig, ax = plt.subplots(figsize=(10, 6))\n",
    "\n",
    "# Assigning colors based on the year\n",
    "colors = [year_color_mapping[year] for year in Top_crime_years['YEAR']]\n",
    "\n",
    "# Bar plot with custom colors\n",
    "OFFENSE = ax.bar(Top_crime.index, Top_crime['CRIME_COUNT'], color=colors)\n",
    "\n",
    "# Set title, xlabel, and ylabel\n",
    "ax.set_title(\"Top Crime Between 2018 - 2022\")\n",
    "ax.set_ylabel(\"Crime Count\")\n",
    "\n",
    "# Combine Year and CRIME for x-axis ticks\n",
    "xticklabels = [f\"{year}\\n{OFFENSE_CODE_GROUP}\" for year, OFFENSE_CODE_GROUP in zip(Top_crime[\"YEAR\"], Top_crime[\"OFFENSE_CODE_GROUP\"])]\n",
    "\n",
    "# Set x-axis ticks and labels\n",
    "ax.set_xticks(Top_crime.index)\n",
    "ax.set_xticklabels(xticklabels, rotation=0, rotation_mode=\"anchor\", ha=\"center\", wrap=True)\n",
    "\n",
    "# Set y-axis ticks and limits\n",
    "y_ticks = [0, 10147, 7811,6250, 6006, 6165]\n",
    "ax.set_yticks(y_ticks)\n",
    "ax.set_ylim(0, max(Top_crime['CRIME_COUNT']) * 1.1)\n",
    "\n",
    "# Create custom legend patches\n",
    "\n",
    "legend_patches = [mpatches.Patch(color=color, label=f'  {year}') for year, color in offence_color_mapping.items()]\n",
    "\n",
    "# Display legend\n",
    "plt.legend(handles=legend_patches)\n",
    "\n",
    "# Save Chart\n",
    "plt.savefig('bar_Crime_2018-22.jpeg')\n",
    "\n",
    "plt.show()"
   ]
  },
  {
   "cell_type": "code",
   "execution_count": 10,
   "id": "d34a498e",
   "metadata": {},
   "outputs": [
    {
     "data": {
      "text/html": [
       "<div>\n",
       "<style scoped>\n",
       "    .dataframe tbody tr th:only-of-type {\n",
       "        vertical-align: middle;\n",
       "    }\n",
       "\n",
       "    .dataframe tbody tr th {\n",
       "        vertical-align: top;\n",
       "    }\n",
       "\n",
       "    .dataframe thead th {\n",
       "        text-align: right;\n",
       "    }\n",
       "</style>\n",
       "<table border=\"1\" class=\"dataframe\">\n",
       "  <thead>\n",
       "    <tr style=\"text-align: right;\">\n",
       "      <th></th>\n",
       "      <th>SaleDate</th>\n",
       "      <th>Year</th>\n",
       "      <th>PRODUCT_CATEGORY</th>\n",
       "      <th>UNIT_OF_MEASURE</th>\n",
       "      <th>RecordNo</th>\n",
       "      <th>TOTAL_$</th>\n",
       "      <th>CountBasedTotal</th>\n",
       "      <th>DollarCountBasedTotal</th>\n",
       "      <th>WeightBasedTotal</th>\n",
       "      <th>DollarWeightBasedTotal</th>\n",
       "      <th>Quantity</th>\n",
       "      <th>CCCLastUpdated</th>\n",
       "    </tr>\n",
       "  </thead>\n",
       "  <tbody>\n",
       "    <tr>\n",
       "      <th>0</th>\n",
       "      <td>11/5/18</td>\n",
       "      <td>2018</td>\n",
       "      <td>Infused (edible)</td>\n",
       "      <td>Each</td>\n",
       "      <td>1</td>\n",
       "      <td>60.00</td>\n",
       "      <td>2</td>\n",
       "      <td>60.00</td>\n",
       "      <td>0.00</td>\n",
       "      <td>0.00</td>\n",
       "      <td>2.00</td>\n",
       "      <td>3/22/24</td>\n",
       "    </tr>\n",
       "    <tr>\n",
       "      <th>1</th>\n",
       "      <td>11/6/18</td>\n",
       "      <td>2018</td>\n",
       "      <td>Infused (edible)</td>\n",
       "      <td>Each</td>\n",
       "      <td>2</td>\n",
       "      <td>57.00</td>\n",
       "      <td>2</td>\n",
       "      <td>57.00</td>\n",
       "      <td>0.00</td>\n",
       "      <td>0.00</td>\n",
       "      <td>2.00</td>\n",
       "      <td>3/22/24</td>\n",
       "    </tr>\n",
       "    <tr>\n",
       "      <th>2</th>\n",
       "      <td>11/19/18</td>\n",
       "      <td>2018</td>\n",
       "      <td>Buds</td>\n",
       "      <td>Grams</td>\n",
       "      <td>3</td>\n",
       "      <td>0.00</td>\n",
       "      <td>0</td>\n",
       "      <td>0.00</td>\n",
       "      <td>0.00</td>\n",
       "      <td>0.00</td>\n",
       "      <td>0.00</td>\n",
       "      <td>3/22/24</td>\n",
       "    </tr>\n",
       "    <tr>\n",
       "      <th>3</th>\n",
       "      <td>11/19/18</td>\n",
       "      <td>2018</td>\n",
       "      <td>Concentrate (Each)</td>\n",
       "      <td>Each</td>\n",
       "      <td>3</td>\n",
       "      <td>0.00</td>\n",
       "      <td>0</td>\n",
       "      <td>0.00</td>\n",
       "      <td>0.00</td>\n",
       "      <td>0.00</td>\n",
       "      <td>0.00</td>\n",
       "      <td>3/22/24</td>\n",
       "    </tr>\n",
       "    <tr>\n",
       "      <th>4</th>\n",
       "      <td>11/20/18</td>\n",
       "      <td>2018</td>\n",
       "      <td>Concentrate (Each)</td>\n",
       "      <td>Each</td>\n",
       "      <td>5</td>\n",
       "      <td>163585.03</td>\n",
       "      <td>3031</td>\n",
       "      <td>163585.03</td>\n",
       "      <td>0.00</td>\n",
       "      <td>0.00</td>\n",
       "      <td>3031.00</td>\n",
       "      <td>3/22/24</td>\n",
       "    </tr>\n",
       "    <tr>\n",
       "      <th>...</th>\n",
       "      <td>...</td>\n",
       "      <td>...</td>\n",
       "      <td>...</td>\n",
       "      <td>...</td>\n",
       "      <td>...</td>\n",
       "      <td>...</td>\n",
       "      <td>...</td>\n",
       "      <td>...</td>\n",
       "      <td>...</td>\n",
       "      <td>...</td>\n",
       "      <td>...</td>\n",
       "      <td>...</td>\n",
       "    </tr>\n",
       "    <tr>\n",
       "      <th>26123</th>\n",
       "      <td>3/17/24</td>\n",
       "      <td>2024</td>\n",
       "      <td>Concentrate</td>\n",
       "      <td>Grams</td>\n",
       "      <td>26109</td>\n",
       "      <td>24412.09</td>\n",
       "      <td>0</td>\n",
       "      <td>0.00</td>\n",
       "      <td>870.07</td>\n",
       "      <td>24412.09</td>\n",
       "      <td>870.07</td>\n",
       "      <td>3/22/24</td>\n",
       "    </tr>\n",
       "    <tr>\n",
       "      <th>26124</th>\n",
       "      <td>3/17/24</td>\n",
       "      <td>2024</td>\n",
       "      <td>Infused (non-edible)</td>\n",
       "      <td>Each</td>\n",
       "      <td>26109</td>\n",
       "      <td>19051.83</td>\n",
       "      <td>568</td>\n",
       "      <td>19051.83</td>\n",
       "      <td>0.00</td>\n",
       "      <td>0.00</td>\n",
       "      <td>568.00</td>\n",
       "      <td>3/22/24</td>\n",
       "    </tr>\n",
       "    <tr>\n",
       "      <th>26125</th>\n",
       "      <td>3/17/24</td>\n",
       "      <td>2024</td>\n",
       "      <td>Kief</td>\n",
       "      <td>Milligrams</td>\n",
       "      <td>26109</td>\n",
       "      <td>70.05</td>\n",
       "      <td>0</td>\n",
       "      <td>0.00</td>\n",
       "      <td>3000.00</td>\n",
       "      <td>70.05</td>\n",
       "      <td>3000.00</td>\n",
       "      <td>3/22/24</td>\n",
       "    </tr>\n",
       "    <tr>\n",
       "      <th>26126</th>\n",
       "      <td>3/17/24</td>\n",
       "      <td>2024</td>\n",
       "      <td>Shake/Trim</td>\n",
       "      <td>Grams</td>\n",
       "      <td>26109</td>\n",
       "      <td>29098.42</td>\n",
       "      <td>0</td>\n",
       "      <td>0.00</td>\n",
       "      <td>9006.00</td>\n",
       "      <td>29098.42</td>\n",
       "      <td>9006.00</td>\n",
       "      <td>3/22/24</td>\n",
       "    </tr>\n",
       "    <tr>\n",
       "      <th>26127</th>\n",
       "      <td>3/17/24</td>\n",
       "      <td>2024</td>\n",
       "      <td>Vape Product</td>\n",
       "      <td>Each</td>\n",
       "      <td>26109</td>\n",
       "      <td>738480.09</td>\n",
       "      <td>25150</td>\n",
       "      <td>738480.09</td>\n",
       "      <td>0.00</td>\n",
       "      <td>0.00</td>\n",
       "      <td>25150.00</td>\n",
       "      <td>3/22/24</td>\n",
       "    </tr>\n",
       "  </tbody>\n",
       "</table>\n",
       "<p>26128 rows × 12 columns</p>\n",
       "</div>"
      ],
      "text/plain": [
       "       SaleDate  Year      PRODUCT_CATEGORY UNIT_OF_MEASURE  RecordNo  \\\n",
       "0       11/5/18  2018      Infused (edible)            Each         1   \n",
       "1       11/6/18  2018      Infused (edible)            Each         2   \n",
       "2      11/19/18  2018                  Buds           Grams         3   \n",
       "3      11/19/18  2018    Concentrate (Each)            Each         3   \n",
       "4      11/20/18  2018    Concentrate (Each)            Each         5   \n",
       "...         ...   ...                   ...             ...       ...   \n",
       "26123   3/17/24  2024           Concentrate           Grams     26109   \n",
       "26124   3/17/24  2024  Infused (non-edible)            Each     26109   \n",
       "26125   3/17/24  2024                  Kief      Milligrams     26109   \n",
       "26126   3/17/24  2024            Shake/Trim           Grams     26109   \n",
       "26127   3/17/24  2024          Vape Product            Each     26109   \n",
       "\n",
       "         TOTAL_$  CountBasedTotal  DollarCountBasedTotal  WeightBasedTotal  \\\n",
       "0          60.00                2                  60.00              0.00   \n",
       "1          57.00                2                  57.00              0.00   \n",
       "2           0.00                0                   0.00              0.00   \n",
       "3           0.00                0                   0.00              0.00   \n",
       "4      163585.03             3031              163585.03              0.00   \n",
       "...          ...              ...                    ...               ...   \n",
       "26123   24412.09                0                   0.00            870.07   \n",
       "26124   19051.83              568               19051.83              0.00   \n",
       "26125      70.05                0                   0.00           3000.00   \n",
       "26126   29098.42                0                   0.00           9006.00   \n",
       "26127  738480.09            25150              738480.09              0.00   \n",
       "\n",
       "       DollarWeightBasedTotal  Quantity CCCLastUpdated  \n",
       "0                        0.00      2.00        3/22/24  \n",
       "1                        0.00      2.00        3/22/24  \n",
       "2                        0.00      0.00        3/22/24  \n",
       "3                        0.00      0.00        3/22/24  \n",
       "4                        0.00   3031.00        3/22/24  \n",
       "...                       ...       ...            ...  \n",
       "26123                24412.09    870.07        3/22/24  \n",
       "26124                    0.00    568.00        3/22/24  \n",
       "26125                   70.05   3000.00        3/22/24  \n",
       "26126                29098.42   9006.00        3/22/24  \n",
       "26127                    0.00  25150.00        3/22/24  \n",
       "\n",
       "[26128 rows x 12 columns]"
      ]
     },
     "execution_count": 10,
     "metadata": {},
     "output_type": "execute_result"
    }
   ],
   "source": [
    "# Read Massachusets Gross Sale \n",
    "Ma_CannabisGS = \"MA_Gross_Sales_2018_2024.csv\"\n",
    "\n",
    "\n",
    "#Read the data\n",
    "Ma_CannabisGS= pd.read_csv(Ma_CannabisGS)\n",
    "Ma_CannabisGS"
   ]
  },
  {
   "cell_type": "code",
   "execution_count": 11,
   "id": "9df7da74",
   "metadata": {},
   "outputs": [
    {
     "data": {
      "text/html": [
       "<div>\n",
       "<style scoped>\n",
       "    .dataframe tbody tr th:only-of-type {\n",
       "        vertical-align: middle;\n",
       "    }\n",
       "\n",
       "    .dataframe tbody tr th {\n",
       "        vertical-align: top;\n",
       "    }\n",
       "\n",
       "    .dataframe thead th {\n",
       "        text-align: right;\n",
       "    }\n",
       "</style>\n",
       "<table border=\"1\" class=\"dataframe\">\n",
       "  <thead>\n",
       "    <tr style=\"text-align: right;\">\n",
       "      <th></th>\n",
       "      <th>Year</th>\n",
       "      <th>PRODUCT_CATEGORY</th>\n",
       "      <th>TOTAL_$</th>\n",
       "    </tr>\n",
       "  </thead>\n",
       "  <tbody>\n",
       "    <tr>\n",
       "      <th>0</th>\n",
       "      <td>2018</td>\n",
       "      <td>Buds</td>\n",
       "      <td>6814634.23</td>\n",
       "    </tr>\n",
       "    <tr>\n",
       "      <th>1</th>\n",
       "      <td>2018</td>\n",
       "      <td>Concentrate</td>\n",
       "      <td>487189.56</td>\n",
       "    </tr>\n",
       "    <tr>\n",
       "      <th>2</th>\n",
       "      <td>2018</td>\n",
       "      <td>Concentrate (Each)</td>\n",
       "      <td>5412902.94</td>\n",
       "    </tr>\n",
       "    <tr>\n",
       "      <th>3</th>\n",
       "      <td>2018</td>\n",
       "      <td>Infused (edible)</td>\n",
       "      <td>1930653.46</td>\n",
       "    </tr>\n",
       "    <tr>\n",
       "      <th>4</th>\n",
       "      <td>2018</td>\n",
       "      <td>Infused (non-edible)</td>\n",
       "      <td>450784.47</td>\n",
       "    </tr>\n",
       "    <tr>\n",
       "      <th>...</th>\n",
       "      <td>...</td>\n",
       "      <td>...</td>\n",
       "      <td>...</td>\n",
       "    </tr>\n",
       "    <tr>\n",
       "      <th>97</th>\n",
       "      <td>2024</td>\n",
       "      <td>Seeds</td>\n",
       "      <td>16831.01</td>\n",
       "    </tr>\n",
       "    <tr>\n",
       "      <th>98</th>\n",
       "      <td>2024</td>\n",
       "      <td>Shake/Trim</td>\n",
       "      <td>2649958.92</td>\n",
       "    </tr>\n",
       "    <tr>\n",
       "      <th>99</th>\n",
       "      <td>2024</td>\n",
       "      <td>Shake/Trim (by strain)</td>\n",
       "      <td>6702187.59</td>\n",
       "    </tr>\n",
       "    <tr>\n",
       "      <th>100</th>\n",
       "      <td>2024</td>\n",
       "      <td>Suppository</td>\n",
       "      <td>3630.21</td>\n",
       "    </tr>\n",
       "    <tr>\n",
       "      <th>101</th>\n",
       "      <td>2024</td>\n",
       "      <td>Vape Product</td>\n",
       "      <td>63894779.27</td>\n",
       "    </tr>\n",
       "  </tbody>\n",
       "</table>\n",
       "<p>102 rows × 3 columns</p>\n",
       "</div>"
      ],
      "text/plain": [
       "     Year        PRODUCT_CATEGORY      TOTAL_$\n",
       "0    2018                    Buds   6814634.23\n",
       "1    2018             Concentrate    487189.56\n",
       "2    2018      Concentrate (Each)   5412902.94\n",
       "3    2018        Infused (edible)   1930653.46\n",
       "4    2018    Infused (non-edible)    450784.47\n",
       "..    ...                     ...          ...\n",
       "97   2024                   Seeds     16831.01\n",
       "98   2024              Shake/Trim   2649958.92\n",
       "99   2024  Shake/Trim (by strain)   6702187.59\n",
       "100  2024             Suppository      3630.21\n",
       "101  2024            Vape Product  63894779.27\n",
       "\n",
       "[102 rows x 3 columns]"
      ]
     },
     "execution_count": 11,
     "metadata": {},
     "output_type": "execute_result"
    }
   ],
   "source": [
    "# Group by 'Year' and 'PRODUCT_CATEGORY',and sum the 'TOTAL_$' for each group\n",
    "Product_sale_Per_year = Ma_CannabisGS.groupby([\"Year\", \"PRODUCT_CATEGORY\"])['TOTAL_$'].sum().reset_index()\n",
    "Product_sale_Per_year\n"
   ]
  },
  {
   "cell_type": "code",
   "execution_count": 12,
   "id": "b972b05c",
   "metadata": {},
   "outputs": [
    {
     "data": {
      "text/html": [
       "<div>\n",
       "<style scoped>\n",
       "    .dataframe tbody tr th:only-of-type {\n",
       "        vertical-align: middle;\n",
       "    }\n",
       "\n",
       "    .dataframe tbody tr th {\n",
       "        vertical-align: top;\n",
       "    }\n",
       "\n",
       "    .dataframe thead th {\n",
       "        text-align: right;\n",
       "    }\n",
       "</style>\n",
       "<table border=\"1\" class=\"dataframe\">\n",
       "  <thead>\n",
       "    <tr style=\"text-align: right;\">\n",
       "      <th></th>\n",
       "      <th>Year</th>\n",
       "      <th>PRODUCT_CATEGORY</th>\n",
       "      <th>TOTAL_$</th>\n",
       "    </tr>\n",
       "  </thead>\n",
       "  <tbody>\n",
       "    <tr>\n",
       "      <th>66</th>\n",
       "      <td>2023</td>\n",
       "      <td>Buds</td>\n",
       "      <td>6.299092e+08</td>\n",
       "    </tr>\n",
       "    <tr>\n",
       "      <th>49</th>\n",
       "      <td>2022</td>\n",
       "      <td>Buds</td>\n",
       "      <td>5.846774e+08</td>\n",
       "    </tr>\n",
       "    <tr>\n",
       "      <th>32</th>\n",
       "      <td>2021</td>\n",
       "      <td>Buds</td>\n",
       "      <td>5.668532e+08</td>\n",
       "    </tr>\n",
       "    <tr>\n",
       "      <th>19</th>\n",
       "      <td>2020</td>\n",
       "      <td>Buds</td>\n",
       "      <td>3.322671e+08</td>\n",
       "    </tr>\n",
       "    <tr>\n",
       "      <th>64</th>\n",
       "      <td>2022</td>\n",
       "      <td>Vape Product</td>\n",
       "      <td>3.151187e+08</td>\n",
       "    </tr>\n",
       "    <tr>\n",
       "      <th>...</th>\n",
       "      <td>...</td>\n",
       "      <td>...</td>\n",
       "      <td>...</td>\n",
       "    </tr>\n",
       "    <tr>\n",
       "      <th>39</th>\n",
       "      <td>2021</td>\n",
       "      <td>Infused Beverages (Bulk)</td>\n",
       "      <td>4.520000e+02</td>\n",
       "    </tr>\n",
       "    <tr>\n",
       "      <th>75</th>\n",
       "      <td>2023</td>\n",
       "      <td>Infused Liquid (Bulk)</td>\n",
       "      <td>1.628300e+02</td>\n",
       "    </tr>\n",
       "    <tr>\n",
       "      <th>48</th>\n",
       "      <td>2021</td>\n",
       "      <td>Waste</td>\n",
       "      <td>7.500000e+01</td>\n",
       "    </tr>\n",
       "    <tr>\n",
       "      <th>31</th>\n",
       "      <td>2020</td>\n",
       "      <td>Waste</td>\n",
       "      <td>-5.000000e+01</td>\n",
       "    </tr>\n",
       "    <tr>\n",
       "      <th>65</th>\n",
       "      <td>2022</td>\n",
       "      <td>Waste</td>\n",
       "      <td>-5.000000e+01</td>\n",
       "    </tr>\n",
       "  </tbody>\n",
       "</table>\n",
       "<p>102 rows × 3 columns</p>\n",
       "</div>"
      ],
      "text/plain": [
       "    Year          PRODUCT_CATEGORY       TOTAL_$\n",
       "66  2023                      Buds  6.299092e+08\n",
       "49  2022                      Buds  5.846774e+08\n",
       "32  2021                      Buds  5.668532e+08\n",
       "19  2020                      Buds  3.322671e+08\n",
       "64  2022              Vape Product  3.151187e+08\n",
       "..   ...                       ...           ...\n",
       "39  2021  Infused Beverages (Bulk)  4.520000e+02\n",
       "75  2023     Infused Liquid (Bulk)  1.628300e+02\n",
       "48  2021                     Waste  7.500000e+01\n",
       "31  2020                     Waste -5.000000e+01\n",
       "65  2022                     Waste -5.000000e+01\n",
       "\n",
       "[102 rows x 3 columns]"
      ]
     },
     "execution_count": 12,
     "metadata": {},
     "output_type": "execute_result"
    }
   ],
   "source": [
    "Top_Prod_df=Product_sale_Per_year.sort_values(['TOTAL_$'],ascending=False)\n",
    "Top_Prod_df"
   ]
  },
  {
   "cell_type": "code",
   "execution_count": 13,
   "id": "b5504c64",
   "metadata": {},
   "outputs": [
    {
     "data": {
      "text/html": [
       "<div>\n",
       "<style scoped>\n",
       "    .dataframe tbody tr th:only-of-type {\n",
       "        vertical-align: middle;\n",
       "    }\n",
       "\n",
       "    .dataframe tbody tr th {\n",
       "        vertical-align: top;\n",
       "    }\n",
       "\n",
       "    .dataframe thead th {\n",
       "        text-align: right;\n",
       "    }\n",
       "</style>\n",
       "<table border=\"1\" class=\"dataframe\">\n",
       "  <thead>\n",
       "    <tr style=\"text-align: right;\">\n",
       "      <th></th>\n",
       "      <th>Year</th>\n",
       "      <th>PRODUCT_CATEGORY</th>\n",
       "      <th>TOTAL_$</th>\n",
       "    </tr>\n",
       "  </thead>\n",
       "  <tbody>\n",
       "    <tr>\n",
       "      <th>0</th>\n",
       "      <td>2018</td>\n",
       "      <td>Buds</td>\n",
       "      <td>6814634.23</td>\n",
       "    </tr>\n",
       "    <tr>\n",
       "      <th>2</th>\n",
       "      <td>2018</td>\n",
       "      <td>Concentrate (Each)</td>\n",
       "      <td>5412902.94</td>\n",
       "    </tr>\n",
       "    <tr>\n",
       "      <th>3</th>\n",
       "      <td>2018</td>\n",
       "      <td>Infused (edible)</td>\n",
       "      <td>1930653.46</td>\n",
       "    </tr>\n",
       "    <tr>\n",
       "      <th>1</th>\n",
       "      <td>2018</td>\n",
       "      <td>Concentrate</td>\n",
       "      <td>487189.56</td>\n",
       "    </tr>\n",
       "    <tr>\n",
       "      <th>4</th>\n",
       "      <td>2018</td>\n",
       "      <td>Infused (non-edible)</td>\n",
       "      <td>450784.47</td>\n",
       "    </tr>\n",
       "    <tr>\n",
       "      <th>...</th>\n",
       "      <td>...</td>\n",
       "      <td>...</td>\n",
       "      <td>...</td>\n",
       "    </tr>\n",
       "    <tr>\n",
       "      <th>94</th>\n",
       "      <td>2024</td>\n",
       "      <td>Infused Pre-Rolls</td>\n",
       "      <td>7079375.17</td>\n",
       "    </tr>\n",
       "    <tr>\n",
       "      <th>99</th>\n",
       "      <td>2024</td>\n",
       "      <td>Shake/Trim (by strain)</td>\n",
       "      <td>6702187.59</td>\n",
       "    </tr>\n",
       "    <tr>\n",
       "      <th>98</th>\n",
       "      <td>2024</td>\n",
       "      <td>Shake/Trim</td>\n",
       "      <td>2649958.92</td>\n",
       "    </tr>\n",
       "    <tr>\n",
       "      <th>85</th>\n",
       "      <td>2024</td>\n",
       "      <td>Concentrate</td>\n",
       "      <td>2306352.38</td>\n",
       "    </tr>\n",
       "    <tr>\n",
       "      <th>92</th>\n",
       "      <td>2024</td>\n",
       "      <td>Infused Beverage</td>\n",
       "      <td>2291874.84</td>\n",
       "    </tr>\n",
       "  </tbody>\n",
       "</table>\n",
       "<p>67 rows × 3 columns</p>\n",
       "</div>"
      ],
      "text/plain": [
       "    Year        PRODUCT_CATEGORY     TOTAL_$\n",
       "0   2018                    Buds  6814634.23\n",
       "2   2018      Concentrate (Each)  5412902.94\n",
       "3   2018        Infused (edible)  1930653.46\n",
       "1   2018             Concentrate   487189.56\n",
       "4   2018    Infused (non-edible)   450784.47\n",
       "..   ...                     ...         ...\n",
       "94  2024       Infused Pre-Rolls  7079375.17\n",
       "99  2024  Shake/Trim (by strain)  6702187.59\n",
       "98  2024              Shake/Trim  2649958.92\n",
       "85  2024             Concentrate  2306352.38\n",
       "92  2024        Infused Beverage  2291874.84\n",
       "\n",
       "[67 rows x 3 columns]"
      ]
     },
     "execution_count": 13,
     "metadata": {},
     "output_type": "execute_result"
    }
   ],
   "source": [
    "# Top_2018_Prod_Category= Top_Prod_df.loc[(Top_Prod_df[\"Year\"] == 2018)].head(10)\n",
    "# Top_2019_Prod_Category= Top_Prod_df.loc[(Top_Prod_df[\"Year\"] == 2019)].head(10)\n",
    "# Top_2020_Prod_Category= Top_Prod_df.loc[(Top_Prod_df[\"Year\"] == 2020)].head(10)\n",
    "# Top_2021_Prod_Category= Top_Prod_df.loc[(Top_Prod_df[\"Year\"] == 2021)].head(10)\n",
    "# Top_2022_Prod_Category= Top_Prod_df.loc[(Top_Prod_df[\"Year\"] == 2022)].head(10)\n",
    "# Top_2023_Prod_Category= Top_Prod_df.loc[(Top_Prod_df[\"Year\"] == 2023)].head(10)\n",
    "# Top_2024_Prod_Category= Top_Prod_df.loc[(Top_Prod_df[\"Year\"] == 2024)].head(10)\n",
    "# Top_2018_Prod_Category\n",
    "Top_ProdCategory_years = pd.concat([Top_Prod_df.loc[Top_Prod_df[\"Year\"] == year]\\\n",
    "                             .head(10) for year in [2018, 2019, 2020, 2021, 2022,2023,2024]])\n",
    "\n",
    "\n",
    "\n",
    "Top_ProdCategory_years"
   ]
  },
  {
   "cell_type": "code",
   "execution_count": 14,
   "id": "19ff2fb6",
   "metadata": {},
   "outputs": [
    {
     "data": {
      "text/html": [
       "<div>\n",
       "<style scoped>\n",
       "    .dataframe tbody tr th:only-of-type {\n",
       "        vertical-align: middle;\n",
       "    }\n",
       "\n",
       "    .dataframe tbody tr th {\n",
       "        vertical-align: top;\n",
       "    }\n",
       "\n",
       "    .dataframe thead th {\n",
       "        text-align: right;\n",
       "    }\n",
       "</style>\n",
       "<table border=\"1\" class=\"dataframe\">\n",
       "  <thead>\n",
       "    <tr style=\"text-align: right;\">\n",
       "      <th></th>\n",
       "      <th>PRODUCT_CATEGORY</th>\n",
       "      <th>TOTAL_$</th>\n",
       "    </tr>\n",
       "  </thead>\n",
       "  <tbody>\n",
       "    <tr>\n",
       "      <th>0</th>\n",
       "      <td>Buds</td>\n",
       "      <td>2.476316e+09</td>\n",
       "    </tr>\n",
       "    <tr>\n",
       "      <th>1</th>\n",
       "      <td>Concentrate</td>\n",
       "      <td>3.003784e+07</td>\n",
       "    </tr>\n",
       "    <tr>\n",
       "      <th>2</th>\n",
       "      <td>Concentrate (Bulk)</td>\n",
       "      <td>6.716605e+05</td>\n",
       "    </tr>\n",
       "    <tr>\n",
       "      <th>3</th>\n",
       "      <td>Concentrate (Each)</td>\n",
       "      <td>4.178098e+08</td>\n",
       "    </tr>\n",
       "    <tr>\n",
       "      <th>4</th>\n",
       "      <td>Fresh Frozen Flower</td>\n",
       "      <td>3.658264e+04</td>\n",
       "    </tr>\n",
       "    <tr>\n",
       "      <th>5</th>\n",
       "      <td>Immature Plants</td>\n",
       "      <td>3.831259e+05</td>\n",
       "    </tr>\n",
       "    <tr>\n",
       "      <th>6</th>\n",
       "      <td>Infused (edible)</td>\n",
       "      <td>8.241795e+08</td>\n",
       "    </tr>\n",
       "    <tr>\n",
       "      <th>7</th>\n",
       "      <td>Infused (non-edible)</td>\n",
       "      <td>3.433024e+07</td>\n",
       "    </tr>\n",
       "    <tr>\n",
       "      <th>8</th>\n",
       "      <td>Infused Beverage</td>\n",
       "      <td>4.242910e+07</td>\n",
       "    </tr>\n",
       "    <tr>\n",
       "      <th>9</th>\n",
       "      <td>Infused Beverages (Bulk)</td>\n",
       "      <td>4.520000e+02</td>\n",
       "    </tr>\n",
       "    <tr>\n",
       "      <th>10</th>\n",
       "      <td>Infused Liquid (Bulk)</td>\n",
       "      <td>7.578700e+02</td>\n",
       "    </tr>\n",
       "    <tr>\n",
       "      <th>11</th>\n",
       "      <td>Infused Pre-Rolls</td>\n",
       "      <td>6.044012e+07</td>\n",
       "    </tr>\n",
       "    <tr>\n",
       "      <th>12</th>\n",
       "      <td>Kief</td>\n",
       "      <td>5.484105e+06</td>\n",
       "    </tr>\n",
       "    <tr>\n",
       "      <th>13</th>\n",
       "      <td>Raw Pre-Rolls</td>\n",
       "      <td>8.099662e+08</td>\n",
       "    </tr>\n",
       "    <tr>\n",
       "      <th>14</th>\n",
       "      <td>Seeds</td>\n",
       "      <td>4.160763e+04</td>\n",
       "    </tr>\n",
       "    <tr>\n",
       "      <th>15</th>\n",
       "      <td>Shake/Trim</td>\n",
       "      <td>2.112408e+07</td>\n",
       "    </tr>\n",
       "    <tr>\n",
       "      <th>16</th>\n",
       "      <td>Shake/Trim (by strain)</td>\n",
       "      <td>6.694545e+07</td>\n",
       "    </tr>\n",
       "    <tr>\n",
       "      <th>17</th>\n",
       "      <td>Suppository</td>\n",
       "      <td>5.729230e+04</td>\n",
       "    </tr>\n",
       "    <tr>\n",
       "      <th>18</th>\n",
       "      <td>Vape Product</td>\n",
       "      <td>1.079378e+09</td>\n",
       "    </tr>\n",
       "    <tr>\n",
       "      <th>19</th>\n",
       "      <td>Waste</td>\n",
       "      <td>-2.500000e+01</td>\n",
       "    </tr>\n",
       "  </tbody>\n",
       "</table>\n",
       "</div>"
      ],
      "text/plain": [
       "            PRODUCT_CATEGORY       TOTAL_$\n",
       "0                       Buds  2.476316e+09\n",
       "1                Concentrate  3.003784e+07\n",
       "2         Concentrate (Bulk)  6.716605e+05\n",
       "3         Concentrate (Each)  4.178098e+08\n",
       "4        Fresh Frozen Flower  3.658264e+04\n",
       "5            Immature Plants  3.831259e+05\n",
       "6           Infused (edible)  8.241795e+08\n",
       "7       Infused (non-edible)  3.433024e+07\n",
       "8           Infused Beverage  4.242910e+07\n",
       "9   Infused Beverages (Bulk)  4.520000e+02\n",
       "10     Infused Liquid (Bulk)  7.578700e+02\n",
       "11         Infused Pre-Rolls  6.044012e+07\n",
       "12                      Kief  5.484105e+06\n",
       "13             Raw Pre-Rolls  8.099662e+08\n",
       "14                     Seeds  4.160763e+04\n",
       "15                Shake/Trim  2.112408e+07\n",
       "16    Shake/Trim (by strain)  6.694545e+07\n",
       "17               Suppository  5.729230e+04\n",
       "18              Vape Product  1.079378e+09\n",
       "19                     Waste -2.500000e+01"
      ]
     },
     "execution_count": 14,
     "metadata": {},
     "output_type": "execute_result"
    }
   ],
   "source": [
    "# Prod_Category = pd.DataFrame(Top_ProdCategory_years[Top_ProdCategory_years[\"Year\"].groupby(\"Year\")[\"TOTAL_$\"].sum()])\n",
    "# Prod_Category = pd.DataFrame(Top_ProdCategory_years.groupby(\"Year\",\"PRODUCT_CATEGORY\")[\"TOTAL_$\"].sum())\n",
    "# Prod_Category\n",
    "\n",
    "# Top_ProdCategory_years = pd.concat([Top_Prod_df.loc[Top_Prod_df[\"PRODUCT_CATEGORY\"] == year] for year in [2018, 2019, 2020, 2021, 2022,2023,2024]])\n",
    "# Top_ProdCategory_years\n",
    "\n",
    "# Grouping by 'PRODUCT_CATEGORY' and summing the 'TOTAL_$' values for each category\n",
    "Top_ProdCategory_years = Top_Prod_df.groupby('PRODUCT_CATEGORY')['TOTAL_$'].sum()\n",
    "\n",
    "# Resetting the index to make 'PRODUCT_CATEGORY' a regular column\n",
    "Top_ProdCategory_years = Top_ProdCategory_years.reset_index()\n",
    "\n",
    "# Displaying the dataframe with total sales per product category\n",
    "Top_ProdCategory_years\n"
   ]
  },
  {
   "cell_type": "code",
   "execution_count": 15,
   "id": "5ed2ff34",
   "metadata": {},
   "outputs": [
    {
     "data": {
      "text/plain": [
       "<Axes: title={'center': 'Cannabis Sales By Category'}>"
      ]
     },
     "execution_count": 15,
     "metadata": {},
     "output_type": "execute_result"
    },
    {
     "data": {
      "image/png": "[encoded data removed]",
      "text/plain": [
       "<Figure size 640x480 with 1 Axes>"
      ]
     },
     "metadata": {},
     "output_type": "display_data"
    }
   ],
   "source": [
    "\n",
    "  \n",
    "# Create a sample dataframe \n",
    "category_df = pd.DataFrame({'Year': [2018, 2018, 2018, 2018, 2018, 2024, 2024, 2024, 2024, 2024], \n",
    "                   'TOTAL_$': [6814634.23, 5412902.94, 1930653.46, 487189.56, 450784.47, 16831.01, 16367.98, 12491.06, 3630.21, 595.04]}, \n",
    "                  index=['Buds', 'Concentrate (Each)', 'Infused (edible)', 'Concentrate', 'Infused (non-edible)',\n",
    "                         'Seeds', 'Immature Plants', 'Fresh Frozen Flower', 'Suppository', 'Infused Liquid (Bulk)']) \n",
    "  \n",
    "\n",
    "# plot\n",
    "category_df.plot.barh(stacked=True, \n",
    "                     title=\"Cannabis Sales By Category\") "
   ]
  },
  {
   "cell_type": "code",
   "execution_count": 16,
   "id": "9f073468",
   "metadata": {},
   "outputs": [
    {
     "data": {
      "text/html": [
       "<div>\n",
       "<style scoped>\n",
       "    .dataframe tbody tr th:only-of-type {\n",
       "        vertical-align: middle;\n",
       "    }\n",
       "\n",
       "    .dataframe tbody tr th {\n",
       "        vertical-align: top;\n",
       "    }\n",
       "\n",
       "    .dataframe thead th {\n",
       "        text-align: right;\n",
       "    }\n",
       "</style>\n",
       "<table border=\"1\" class=\"dataframe\">\n",
       "  <thead>\n",
       "    <tr style=\"text-align: right;\">\n",
       "      <th></th>\n",
       "      <th>County</th>\n",
       "      <th>Population</th>\n",
       "      <th>Year</th>\n",
       "      <th>Growth</th>\n",
       "    </tr>\n",
       "  </thead>\n",
       "  <tbody>\n",
       "    <tr>\n",
       "      <th>0</th>\n",
       "      <td>Middlesex</td>\n",
       "      <td>1,609,000</td>\n",
       "      <td>2018</td>\n",
       "      <td>0.00%</td>\n",
       "    </tr>\n",
       "    <tr>\n",
       "      <th>1</th>\n",
       "      <td>Middlesex</td>\n",
       "      <td>1,611,000</td>\n",
       "      <td>2019</td>\n",
       "      <td>0.12%</td>\n",
       "    </tr>\n",
       "    <tr>\n",
       "      <th>2</th>\n",
       "      <td>Middlesex</td>\n",
       "      <td>1,609,000</td>\n",
       "      <td>2020</td>\n",
       "      <td>-0.12%</td>\n",
       "    </tr>\n",
       "    <tr>\n",
       "      <th>3</th>\n",
       "      <td>Middlesex</td>\n",
       "      <td>1,615,000</td>\n",
       "      <td>2021</td>\n",
       "      <td>0.37%</td>\n",
       "    </tr>\n",
       "    <tr>\n",
       "      <th>4</th>\n",
       "      <td>Middlesex</td>\n",
       "      <td>1,617,000</td>\n",
       "      <td>2022</td>\n",
       "      <td>0.12%</td>\n",
       "    </tr>\n",
       "    <tr>\n",
       "      <th>5</th>\n",
       "      <td>Middlesex</td>\n",
       "      <td>1,600,000</td>\n",
       "      <td>2023</td>\n",
       "      <td>-1.05%</td>\n",
       "    </tr>\n",
       "    <tr>\n",
       "      <th>6</th>\n",
       "      <td>Worcester</td>\n",
       "      <td>828,600</td>\n",
       "      <td>2018</td>\n",
       "      <td>0.00%</td>\n",
       "    </tr>\n",
       "    <tr>\n",
       "      <th>7</th>\n",
       "      <td>Worcester</td>\n",
       "      <td>829,300</td>\n",
       "      <td>2019</td>\n",
       "      <td>0.08%</td>\n",
       "    </tr>\n",
       "    <tr>\n",
       "      <th>8</th>\n",
       "      <td>Worcester</td>\n",
       "      <td>859,700</td>\n",
       "      <td>2020</td>\n",
       "      <td>3.67%</td>\n",
       "    </tr>\n",
       "    <tr>\n",
       "      <th>9</th>\n",
       "      <td>Worcester</td>\n",
       "      <td>862,200</td>\n",
       "      <td>2021</td>\n",
       "      <td>0.29%</td>\n",
       "    </tr>\n",
       "    <tr>\n",
       "      <th>10</th>\n",
       "      <td>Worcester</td>\n",
       "      <td>862,900</td>\n",
       "      <td>2022</td>\n",
       "      <td>0.08%</td>\n",
       "    </tr>\n",
       "    <tr>\n",
       "      <th>11</th>\n",
       "      <td>Worcester</td>\n",
       "      <td>866,900</td>\n",
       "      <td>2023</td>\n",
       "      <td>0.46%</td>\n",
       "    </tr>\n",
       "    <tr>\n",
       "      <th>12</th>\n",
       "      <td>Suffolk</td>\n",
       "      <td>804,000</td>\n",
       "      <td>2018</td>\n",
       "      <td>0.00%</td>\n",
       "    </tr>\n",
       "    <tr>\n",
       "      <th>13</th>\n",
       "      <td>Suffolk</td>\n",
       "      <td>805,900</td>\n",
       "      <td>2019</td>\n",
       "      <td>0.24%</td>\n",
       "    </tr>\n",
       "    <tr>\n",
       "      <th>14</th>\n",
       "      <td>Suffolk</td>\n",
       "      <td>797,200</td>\n",
       "      <td>2020</td>\n",
       "      <td>-1.08%</td>\n",
       "    </tr>\n",
       "    <tr>\n",
       "      <th>15</th>\n",
       "      <td>Suffolk</td>\n",
       "      <td>774,500</td>\n",
       "      <td>2021</td>\n",
       "      <td>-2.85%</td>\n",
       "    </tr>\n",
       "    <tr>\n",
       "      <th>16</th>\n",
       "      <td>Suffolk</td>\n",
       "      <td>768,800</td>\n",
       "      <td>2022</td>\n",
       "      <td>-0.74%</td>\n",
       "    </tr>\n",
       "    <tr>\n",
       "      <th>17</th>\n",
       "      <td>Suffolk</td>\n",
       "      <td>768,400</td>\n",
       "      <td>2023</td>\n",
       "      <td>-0.05%</td>\n",
       "    </tr>\n",
       "    <tr>\n",
       "      <th>18</th>\n",
       "      <td>Norfolk</td>\n",
       "      <td>703,600</td>\n",
       "      <td>2018</td>\n",
       "      <td>0.00%</td>\n",
       "    </tr>\n",
       "    <tr>\n",
       "      <th>19</th>\n",
       "      <td>Norfolk</td>\n",
       "      <td>707,200</td>\n",
       "      <td>2019</td>\n",
       "      <td>0.51%</td>\n",
       "    </tr>\n",
       "    <tr>\n",
       "      <th>20</th>\n",
       "      <td>Norfolk</td>\n",
       "      <td>724,600</td>\n",
       "      <td>2020</td>\n",
       "      <td>2.46%</td>\n",
       "    </tr>\n",
       "    <tr>\n",
       "      <th>21</th>\n",
       "      <td>Norfolk</td>\n",
       "      <td>724,500</td>\n",
       "      <td>2021</td>\n",
       "      <td>-0.01%</td>\n",
       "    </tr>\n",
       "    <tr>\n",
       "      <th>22</th>\n",
       "      <td>Norfolk</td>\n",
       "      <td>725,500</td>\n",
       "      <td>2022</td>\n",
       "      <td>0.14%</td>\n",
       "    </tr>\n",
       "    <tr>\n",
       "      <th>23</th>\n",
       "      <td>Norfolk</td>\n",
       "      <td>725,000</td>\n",
       "      <td>2023</td>\n",
       "      <td>-0.07%</td>\n",
       "    </tr>\n",
       "  </tbody>\n",
       "</table>\n",
       "</div>"
      ],
      "text/plain": [
       "        County Population  Year  Growth\n",
       "0    Middlesex  1,609,000  2018   0.00%\n",
       "1   Middlesex   1,611,000  2019   0.12%\n",
       "2   Middlesex   1,609,000  2020  -0.12%\n",
       "3   Middlesex   1,615,000  2021   0.37%\n",
       "4   Middlesex   1,617,000  2022   0.12%\n",
       "5    Middlesex  1,600,000  2023  -1.05%\n",
       "6   Worcester     828,600  2018   0.00%\n",
       "7   Worcester     829,300  2019   0.08%\n",
       "8   Worcester     859,700  2020   3.67%\n",
       "9   Worcester     862,200  2021   0.29%\n",
       "10  Worcester     862,900  2022   0.08%\n",
       "11  Worcester     866,900  2023   0.46%\n",
       "12    Suffolk     804,000  2018   0.00%\n",
       "13    Suffolk     805,900  2019   0.24%\n",
       "14    Suffolk     797,200  2020  -1.08%\n",
       "15    Suffolk     774,500  2021  -2.85%\n",
       "16    Suffolk     768,800  2022  -0.74%\n",
       "17    Suffolk     768,400  2023  -0.05%\n",
       "18    Norfolk     703,600  2018   0.00%\n",
       "19    Norfolk     707,200  2019   0.51%\n",
       "20    Norfolk     724,600  2020   2.46%\n",
       "21    Norfolk     724,500  2021  -0.01%\n",
       "22    Norfolk     725,500  2022   0.14%\n",
       "23    Norfolk     725,000  2023  -0.07%"
      ]
     },
     "execution_count": 16,
     "metadata": {},
     "output_type": "execute_result"
    }
   ],
   "source": [
    "# Read Massachusetspopulation by county\n",
    "Ma_County_Population = 'Population_by_county.csv'\n",
    "\n",
    "\n",
    "\n",
    "#Read the data\n",
    "County_Population= pd.read_csv(Ma_County_Population)\n",
    "County_Population"
   ]
  },
  {
   "cell_type": "code",
   "execution_count": 38,
   "id": "38d86d2c",
   "metadata": {},
   "outputs": [],
   "source": [
    "# ct = pd.DataFrame(County_Population)\n",
    "# Middlesex = ct[County_Population['County'] == 'Middlesex']\n",
    "\n",
    "# Middlesex.head"
   ]
  },
  {
   "cell_type": "code",
   "execution_count": 44,
   "id": "088ab7c7",
   "metadata": {
    "scrolled": false
   },
   "outputs": [
    {
     "data": {
      "image/png": "[encoded data removed]",
      "text/plain": [
       "<Figure size 1200x800 with 1 Axes>"
      ]
     },
     "metadata": {},
     "output_type": "display_data"
    }
   ],
   "source": [
    "countyPop = {\n",
    "    'County': ['Middlesex', 'Middlesex', 'Middlesex', 'Middlesex', 'Middlesex', 'Middlesex', 'Worcester', 'Worcester', 'Worcester', 'Worcester', 'Worcester', 'Worcester', 'Suffolk', 'Suffolk', 'Suffolk', 'Suffolk', 'Suffolk', 'Suffolk', 'Norfolk', 'Norfolk', 'Norfolk', 'Norfolk', 'Norfolk', 'Norfolk'],\n",
    "    'Population': ['1,609,000', '1,611,000', '1,609,000', '1,615,000', '1,617,000', '1,600,000', '828,600', '829,300', '859,700', '862,200', '862,900', '866,900', '804,000', '805,900', '797,200', '774,500', '768,800', '768,400', '703,600', '707,200', '724,600', '724,500', '725,500', '725,000'],\n",
    "    'Year': [2018, 2019, 2020, 2021, 2022, 2023, 2018, 2019, 2020, 2021, 2022, 2023, 2018, 2019, 2020, 2021, 2022, 2023, 2018, 2019, 2020, 2021, 2022, 2023],\n",
    "#     'Growth': ['0.00%', '0.12%', '-0.12%', '0.37%', '0.12%', '-1.05%', '0.00%', '0.08%', '3.67%', '0.29%', '0.08%', '0.46%', '0.00%', '0.24%', '-1.08%', '-2.85%', '-0.74%', '-0.05%', '0.00%', '0.51%', '2.46%', '-0.01%', '0.14%', '-0.07%']\n",
    "}\n",
    "\n",
    "# Convert population to numeric\n",
    "countyPop['Population'] = [int(pop.replace(',', '')) for pop in countyPop['Population']]\n",
    "\n",
    "# Create DataFrame\n",
    "df = pd.DataFrame(countyPop)\n",
    "\n",
    "# Grouping by 'County' and 'Year' and summing the 'Population' values\n",
    "# grouped_df = df.groupby(['County', 'Year'])['Population'].sum().unstack()\n",
    "\n",
    "# Plotting the bar chart\n",
    "grouped_df.plot(kind='line', figsize=(12, 8))\n",
    "\n",
    "# Adding labels and title\n",
    "plt.xlabel('Year')\n",
    "plt.ylabel('Population')\n",
    "plt.title('Population per County per Year')\n",
    "\n",
    "# Display the plot\n",
    "plt.legend(title='County')\n",
    "plt.show()"
   ]
  },
  {
   "cell_type": "code",
   "execution_count": 50,
   "id": "fb0bf1e6",
   "metadata": {},
   "outputs": [
    {
     "data": {
      "application/vnd.plotly.v1+json": {
       "config": {
        "plotlyServerURL": "https://plot.ly"
       },
       "data": [
        {
         "hovertemplate": "County=Middlesex<br>Year=%{x}<br>Population=%{y}<extra></extra>",
         "legendgroup": "Middlesex",
         "line": {
          "color": "#636efa",
          "dash": "solid"
         },
         "marker": {
          "symbol": "circle"
         },
         "mode": "lines",
         "name": "Middlesex",
         "orientation": "v",
         "showlegend": true,
         "type": "scatter",
         "x": [
          2018,
          2019,
          2020,
          2021,
          2022,
          2023
         ],
         "xaxis": "x",
         "y": [
          1609000,
          1611000,
          1609000,
          1615000,
          1617000,
          1600000
         ],
         "yaxis": "y"
        },
        {
         "hovertemplate": "County=Worcester<br>Year=%{x}<br>Population=%{y}<extra></extra>",
         "legendgroup": "Worcester",
         "line": {
          "color": "#EF553B",
          "dash": "solid"
         },
         "marker": {
          "symbol": "circle"
         },
         "mode": "lines",
         "name": "Worcester",
         "orientation": "v",
         "showlegend": true,
         "type": "scatter",
         "x": [
          2018,
          2019,
          2020,
          2021,
          2022,
          2023
         ],
         "xaxis": "x",
         "y": [
          828600,
          829300,
          859700,
          862200,
          862900,
          866900
         ],
         "yaxis": "y"
        },
        {
         "hovertemplate": "County=Suffolk<br>Year=%{x}<br>Population=%{y}<extra></extra>",
         "legendgroup": "Suffolk",
         "line": {
          "color": "#00cc96",
          "dash": "solid"
         },
         "marker": {
          "symbol": "circle"
         },
         "mode": "lines",
         "name": "Suffolk",
         "orientation": "v",
         "showlegend": true,
         "type": "scatter",
         "x": [
          2018,
          2019,
          2020,
          2021,
          2022,
          2023
         ],
         "xaxis": "x",
         "y": [
          804000,
          805900,
          797200,
          774500,
          768800,
          768400
         ],
         "yaxis": "y"
        },
        {
         "hovertemplate": "County=Norfolk<br>Year=%{x}<br>Population=%{y}<extra></extra>",
         "legendgroup": "Norfolk",
         "line": {
          "color": "#ab63fa",
          "dash": "solid"
         },
         "marker": {
          "symbol": "circle"
         },
         "mode": "lines",
         "name": "Norfolk",
         "orientation": "v",
         "showlegend": true,
         "type": "scatter",
         "x": [
          2018,
          2019,
          2020,
          2021,
          2022,
          2023
         ],
         "xaxis": "x",
         "y": [
          703600,
          707200,
          724600,
          724500,
          725500,
          725000
         ],
         "yaxis": "y"
        }
       ],
       "layout": {
        "legend": {
         "title": {
          "text": "County"
         },
         "tracegroupgap": 0
        },
        "template": {
         "data": {
          "bar": [
           {
            "error_x": {
             "color": "#2a3f5f"
            },
            "error_y": {
             "color": "#2a3f5f"
            },
            "marker": {
             "line": {
              "color": "#E5ECF6",
              "width": 0.5
             },
             "pattern": {
              "fillmode": "overlay",
              "size": 10,
              "solidity": 0.2
             }
            },
            "type": "bar"
           }
          ],
          "barpolar": [
           {
            "marker": {
             "line": {
              "color": "#E5ECF6",
              "width": 0.5
             },
             "pattern": {
              "fillmode": "overlay",
              "size": 10,
              "solidity": 0.2
             }
            },
            "type": "barpolar"
           }
          ],
          "carpet": [
           {
            "aaxis": {
             "endlinecolor": "#2a3f5f",
             "gridcolor": "white",
             "linecolor": "white",
             "minorgridcolor": "white",
             "startlinecolor": "#2a3f5f"
            },
            "baxis": {
             "endlinecolor": "#2a3f5f",
             "gridcolor": "white",
             "linecolor": "white",
             "minorgridcolor": "white",
             "startlinecolor": "#2a3f5f"
            },
            "type": "carpet"
           }
          ],
          "choropleth": [
           {
            "colorbar": {
             "outlinewidth": 0,
             "ticks": ""
            },
            "type": "choropleth"
           }
          ],
          "contour": [
           {
            "colorbar": {
             "outlinewidth": 0,
             "ticks": ""
            },
            "colorscale": [
             [
              0,
              "#0d0887"
             ],
             [
              0.1111111111111111,
              "#46039f"
             ],
             [
              0.2222222222222222,
              "#7201a8"
             ],
             [
              0.3333333333333333,
              "#9c179e"
             ],
             [
              0.4444444444444444,
              "#bd3786"
             ],
             [
              0.5555555555555556,
              "#d8576b"
             ],
             [
              0.6666666666666666,
              "#ed7953"
             ],
             [
              0.7777777777777778,
              "#fb9f3a"
             ],
             [
              0.8888888888888888,
              "#fdca26"
             ],
             [
              1,
              "#f0f921"
             ]
            ],
            "type": "contour"
           }
          ],
          "contourcarpet": [
           {
            "colorbar": {
             "outlinewidth": 0,
             "ticks": ""
            },
            "type": "contourcarpet"
           }
          ],
          "heatmap": [
           {
            "colorbar": {
             "outlinewidth": 0,
             "ticks": ""
            },
            "colorscale": [
             [
              0,
              "#0d0887"
             ],
             [
              0.1111111111111111,
              "#46039f"
             ],
             [
              0.2222222222222222,
              "#7201a8"
             ],
             [
              0.3333333333333333,
              "#9c179e"
             ],
             [
              0.4444444444444444,
              "#bd3786"
             ],
             [
              0.5555555555555556,
              "#d8576b"
             ],
             [
              0.6666666666666666,
              "#ed7953"
             ],
             [
              0.7777777777777778,
              "#fb9f3a"
             ],
             [
              0.8888888888888888,
              "#fdca26"
             ],
             [
              1,
              "#f0f921"
             ]
            ],
            "type": "heatmap"
           }
          ],
          "heatmapgl": [
           {
            "colorbar": {
             "outlinewidth": 0,
             "ticks": ""
            },
            "colorscale": [
             [
              0,
              "#0d0887"
             ],
             [
              0.1111111111111111,
              "#46039f"
             ],
             [
              0.2222222222222222,
              "#7201a8"
             ],
             [
              0.3333333333333333,
              "#9c179e"
             ],
             [
              0.4444444444444444,
              "#bd3786"
             ],
             [
              0.5555555555555556,
              "#d8576b"
             ],
             [
              0.6666666666666666,
              "#ed7953"
             ],
             [
              0.7777777777777778,
              "#fb9f3a"
             ],
             [
              0.8888888888888888,
              "#fdca26"
             ],
             [
              1,
              "#f0f921"
             ]
            ],
            "type": "heatmapgl"
           }
          ],
          "histogram": [
           {
            "marker": {
             "pattern": {
              "fillmode": "overlay",
              "size": 10,
              "solidity": 0.2
             }
            },
            "type": "histogram"
           }
          ],
          "histogram2d": [
           {
            "colorbar": {
             "outlinewidth": 0,
             "ticks": ""
            },
            "colorscale": [
             [
              0,
              "#0d0887"
             ],
             [
              0.1111111111111111,
              "#46039f"
             ],
             [
              0.2222222222222222,
              "#7201a8"
             ],
             [
              0.3333333333333333,
              "#9c179e"
             ],
             [
              0.4444444444444444,
              "#bd3786"
             ],
             [
              0.5555555555555556,
              "#d8576b"
             ],
             [
              0.6666666666666666,
              "#ed7953"
             ],
             [
              0.7777777777777778,
              "#fb9f3a"
             ],
             [
              0.8888888888888888,
              "#fdca26"
             ],
             [
              1,
              "#f0f921"
             ]
            ],
            "type": "histogram2d"
           }
          ],
          "histogram2dcontour": [
           {
            "colorbar": {
             "outlinewidth": 0,
             "ticks": ""
            },
            "colorscale": [
             [
              0,
              "#0d0887"
             ],
             [
              0.1111111111111111,
              "#46039f"
             ],
             [
              0.2222222222222222,
              "#7201a8"
             ],
             [
              0.3333333333333333,
              "#9c179e"
             ],
             [
              0.4444444444444444,
              "#bd3786"
             ],
             [
              0.5555555555555556,
              "#d8576b"
             ],
             [
              0.6666666666666666,
              "#ed7953"
             ],
             [
              0.7777777777777778,
              "#fb9f3a"
             ],
             [
              0.8888888888888888,
              "#fdca26"
             ],
             [
              1,
              "#f0f921"
             ]
            ],
            "type": "histogram2dcontour"
           }
          ],
          "mesh3d": [
           {
            "colorbar": {
             "outlinewidth": 0,
             "ticks": ""
            },
            "type": "mesh3d"
           }
          ],
          "parcoords": [
           {
            "line": {
             "colorbar": {
              "outlinewidth": 0,
              "ticks": ""
             }
            },
            "type": "parcoords"
           }
          ],
          "pie": [
           {
            "automargin": true,
            "type": "pie"
           }
          ],
          "scatter": [
           {
            "fillpattern": {
             "fillmode": "overlay",
             "size": 10,
             "solidity": 0.2
            },
            "type": "scatter"
           }
          ],
          "scatter3d": [
           {
            "line": {
             "colorbar": {
              "outlinewidth": 0,
              "ticks": ""
             }
            },
            "marker": {
             "colorbar": {
              "outlinewidth": 0,
              "ticks": ""
             }
            },
            "type": "scatter3d"
           }
          ],
          "scattercarpet": [
           {
            "marker": {
             "colorbar": {
              "outlinewidth": 0,
              "ticks": ""
             }
            },
            "type": "scattercarpet"
           }
          ],
          "scattergeo": [
           {
            "marker": {
             "colorbar": {
              "outlinewidth": 0,
              "ticks": ""
             }
            },
            "type": "scattergeo"
           }
          ],
          "scattergl": [
           {
            "marker": {
             "colorbar": {
              "outlinewidth": 0,
              "ticks": ""
             }
            },
            "type": "scattergl"
           }
          ],
          "scattermapbox": [
           {
            "marker": {
             "colorbar": {
              "outlinewidth": 0,
              "ticks": ""
             }
            },
            "type": "scattermapbox"
           }
          ],
          "scatterpolar": [
           {
            "marker": {
             "colorbar": {
              "outlinewidth": 0,
              "ticks": ""
             }
            },
            "type": "scatterpolar"
           }
          ],
          "scatterpolargl": [
           {
            "marker": {
             "colorbar": {
              "outlinewidth": 0,
              "ticks": ""
             }
            },
            "type": "scatterpolargl"
           }
          ],
          "scatterternary": [
           {
            "marker": {
             "colorbar": {
              "outlinewidth": 0,
              "ticks": ""
             }
            },
            "type": "scatterternary"
           }
          ],
          "surface": [
           {
            "colorbar": {
             "outlinewidth": 0,
             "ticks": ""
            },
            "colorscale": [
             [
              0,
              "#0d0887"
             ],
             [
              0.1111111111111111,
              "#46039f"
             ],
             [
              0.2222222222222222,
              "#7201a8"
             ],
             [
              0.3333333333333333,
              "#9c179e"
             ],
             [
              0.4444444444444444,
              "#bd3786"
             ],
             [
              0.5555555555555556,
              "#d8576b"
             ],
             [
              0.6666666666666666,
              "#ed7953"
             ],
             [
              0.7777777777777778,
              "#fb9f3a"
             ],
             [
              0.8888888888888888,
              "#fdca26"
             ],
             [
              1,
              "#f0f921"
             ]
            ],
            "type": "surface"
           }
          ],
          "table": [
           {
            "cells": {
             "fill": {
              "color": "#EBF0F8"
             },
             "line": {
              "color": "white"
             }
            },
            "header": {
             "fill": {
              "color": "#C8D4E3"
             },
             "line": {
              "color": "white"
             }
            },
            "type": "table"
           }
          ]
         },
         "layout": {
          "annotationdefaults": {
           "arrowcolor": "#2a3f5f",
           "arrowhead": 0,
           "arrowwidth": 1
          },
          "autotypenumbers": "strict",
          "coloraxis": {
           "colorbar": {
            "outlinewidth": 0,
            "ticks": ""
           }
          },
          "colorscale": {
           "diverging": [
            [
             0,
             "#8e0152"
            ],
            [
             0.1,
             "#c51b7d"
            ],
            [
             0.2,
             "#de77ae"
            ],
            [
             0.3,
             "#f1b6da"
            ],
            [
             0.4,
             "#fde0ef"
            ],
            [
             0.5,
             "#f7f7f7"
            ],
            [
             0.6,
             "#e6f5d0"
            ],
            [
             0.7,
             "#b8e186"
            ],
            [
             0.8,
             "#7fbc41"
            ],
            [
             0.9,
             "#4d9221"
            ],
            [
             1,
             "#276419"
            ]
           ],
           "sequential": [
            [
             0,
             "#0d0887"
            ],
            [
             0.1111111111111111,
             "#46039f"
            ],
            [
             0.2222222222222222,
             "#7201a8"
            ],
            [
             0.3333333333333333,
             "#9c179e"
            ],
            [
             0.4444444444444444,
             "#bd3786"
            ],
            [
             0.5555555555555556,
             "#d8576b"
            ],
            [
             0.6666666666666666,
             "#ed7953"
            ],
            [
             0.7777777777777778,
             "#fb9f3a"
            ],
            [
             0.8888888888888888,
             "#fdca26"
            ],
            [
             1,
             "#f0f921"
            ]
           ],
           "sequentialminus": [
            [
             0,
             "#0d0887"
            ],
            [
             0.1111111111111111,
             "#46039f"
            ],
            [
             0.2222222222222222,
             "#7201a8"
            ],
            [
             0.3333333333333333,
             "#9c179e"
            ],
            [
             0.4444444444444444,
             "#bd3786"
            ],
            [
             0.5555555555555556,
             "#d8576b"
            ],
            [
             0.6666666666666666,
             "#ed7953"
            ],
            [
             0.7777777777777778,
             "#fb9f3a"
            ],
            [
             0.8888888888888888,
             "#fdca26"
            ],
            [
             1,
             "#f0f921"
            ]
           ]
          },
          "colorway": [
           "#636efa",
           "#EF553B",
           "#00cc96",
           "#ab63fa",
           "#FFA15A",
           "#19d3f3",
           "#FF6692",
           "#B6E880",
           "#FF97FF",
           "#FECB52"
          ],
          "font": {
           "color": "#2a3f5f"
          },
          "geo": {
           "bgcolor": "white",
           "lakecolor": "white",
           "landcolor": "#E5ECF6",
           "showlakes": true,
           "showland": true,
           "subunitcolor": "white"
          },
          "hoverlabel": {
           "align": "left"
          },
          "hovermode": "closest",
          "mapbox": {
           "style": "light"
          },
          "paper_bgcolor": "white",
          "plot_bgcolor": "#E5ECF6",
          "polar": {
           "angularaxis": {
            "gridcolor": "white",
            "linecolor": "white",
            "ticks": ""
           },
           "bgcolor": "#E5ECF6",
           "radialaxis": {
            "gridcolor": "white",
            "linecolor": "white",
            "ticks": ""
           }
          },
          "scene": {
           "xaxis": {
            "backgroundcolor": "#E5ECF6",
            "gridcolor": "white",
            "gridwidth": 2,
            "linecolor": "white",
            "showbackground": true,
            "ticks": "",
            "zerolinecolor": "white"
           },
           "yaxis": {
            "backgroundcolor": "#E5ECF6",
            "gridcolor": "white",
            "gridwidth": 2,
            "linecolor": "white",
            "showbackground": true,
            "ticks": "",
            "zerolinecolor": "white"
           },
           "zaxis": {
            "backgroundcolor": "#E5ECF6",
            "gridcolor": "white",
            "gridwidth": 2,
            "linecolor": "white",
            "showbackground": true,
            "ticks": "",
            "zerolinecolor": "white"
           }
          },
          "shapedefaults": {
           "line": {
            "color": "#2a3f5f"
           }
          },
          "ternary": {
           "aaxis": {
            "gridcolor": "white",
            "linecolor": "white",
            "ticks": ""
           },
           "baxis": {
            "gridcolor": "white",
            "linecolor": "white",
            "ticks": ""
           },
           "bgcolor": "#E5ECF6",
           "caxis": {
            "gridcolor": "white",
            "linecolor": "white",
            "ticks": ""
           }
          },
          "title": {
           "x": 0.05
          },
          "xaxis": {
           "automargin": true,
           "gridcolor": "white",
           "linecolor": "white",
           "ticks": "",
           "title": {
            "standoff": 15
           },
           "zerolinecolor": "white",
           "zerolinewidth": 2
          },
          "yaxis": {
           "automargin": true,
           "gridcolor": "white",
           "linecolor": "white",
           "ticks": "",
           "title": {
            "standoff": 15
           },
           "zerolinecolor": "white",
           "zerolinewidth": 2
          }
         }
        },
        "title": {
         "text": "Population per County per Year"
        },
        "xaxis": {
         "anchor": "y",
         "domain": [
          0,
          1
         ],
         "title": {
          "text": "Year"
         }
        },
        "yaxis": {
         "anchor": "x",
         "domain": [
          0,
          1
         ],
         "title": {
          "text": "Population"
         }
        }
       }
      },
      "text/html": [
       "<div>                            <div id=\"a57ed83a-059f-48ce-a7e6-2ec6d1c4a627\" class=\"plotly-graph-div\" style=\"height:525px; width:100%;\"></div>            <script type=\"text/javascript\">                require([\"plotly\"], function(Plotly) {                    window.PLOTLYENV=window.PLOTLYENV || {};                                    if (document.getElementById(\"a57ed83a-059f-48ce-a7e6-2ec6d1c4a627\")) {                    Plotly.newPlot(                        \"a57ed83a-059f-48ce-a7e6-2ec6d1c4a627\",                        [{\"hovertemplate\":\"County=Middlesex<br>Year=%{x}<br>Population=%{y}<extra></extra>\",\"legendgroup\":\"Middlesex\",\"line\":{\"color\":\"#636efa\",\"dash\":\"solid\"},\"marker\":{\"symbol\":\"circle\"},\"mode\":\"lines\",\"name\":\"Middlesex\",\"orientation\":\"v\",\"showlegend\":true,\"x\":[2018,2019,2020,2021,2022,2023],\"xaxis\":\"x\",\"y\":[1609000,1611000,1609000,1615000,1617000,1600000],\"yaxis\":\"y\",\"type\":\"scatter\"},{\"hovertemplate\":\"County=Worcester<br>Year=%{x}<br>Population=%{y}<extra></extra>\",\"legendgroup\":\"Worcester\",\"line\":{\"color\":\"#EF553B\",\"dash\":\"solid\"},\"marker\":{\"symbol\":\"circle\"},\"mode\":\"lines\",\"name\":\"Worcester\",\"orientation\":\"v\",\"showlegend\":true,\"x\":[2018,2019,2020,2021,2022,2023],\"xaxis\":\"x\",\"y\":[828600,829300,859700,862200,862900,866900],\"yaxis\":\"y\",\"type\":\"scatter\"},{\"hovertemplate\":\"County=Suffolk<br>Year=%{x}<br>Population=%{y}<extra></extra>\",\"legendgroup\":\"Suffolk\",\"line\":{\"color\":\"#00cc96\",\"dash\":\"solid\"},\"marker\":{\"symbol\":\"circle\"},\"mode\":\"lines\",\"name\":\"Suffolk\",\"orientation\":\"v\",\"showlegend\":true,\"x\":[2018,2019,2020,2021,2022,2023],\"xaxis\":\"x\",\"y\":[804000,805900,797200,774500,768800,768400],\"yaxis\":\"y\",\"type\":\"scatter\"},{\"hovertemplate\":\"County=Norfolk<br>Year=%{x}<br>Population=%{y}<extra></extra>\",\"legendgroup\":\"Norfolk\",\"line\":{\"color\":\"#ab63fa\",\"dash\":\"solid\"},\"marker\":{\"symbol\":\"circle\"},\"mode\":\"lines\",\"name\":\"Norfolk\",\"orientation\":\"v\",\"showlegend\":true,\"x\":[2018,2019,2020,2021,2022,2023],\"xaxis\":\"x\",\"y\":[703600,707200,724600,724500,725500,725000],\"yaxis\":\"y\",\"type\":\"scatter\"}],                        {\"template\":{\"data\":{\"histogram2dcontour\":[{\"type\":\"histogram2dcontour\",\"colorbar\":{\"outlinewidth\":0,\"ticks\":\"\"},\"colorscale\":[[0.0,\"#0d0887\"],[0.1111111111111111,\"#46039f\"],[0.2222222222222222,\"#7201a8\"],[0.3333333333333333,\"#9c179e\"],[0.4444444444444444,\"#bd3786\"],[0.5555555555555556,\"#d8576b\"],[0.6666666666666666,\"#ed7953\"],[0.7777777777777778,\"#fb9f3a\"],[0.8888888888888888,\"#fdca26\"],[1.0,\"#f0f921\"]]}],\"choropleth\":[{\"type\":\"choropleth\",\"colorbar\":{\"outlinewidth\":0,\"ticks\":\"\"}}],\"histogram2d\":[{\"type\":\"histogram2d\",\"colorbar\":{\"outlinewidth\":0,\"ticks\":\"\"},\"colorscale\":[[0.0,\"#0d0887\"],[0.1111111111111111,\"#46039f\"],[0.2222222222222222,\"#7201a8\"],[0.3333333333333333,\"#9c179e\"],[0.4444444444444444,\"#bd3786\"],[0.5555555555555556,\"#d8576b\"],[0.6666666666666666,\"#ed7953\"],[0.7777777777777778,\"#fb9f3a\"],[0.8888888888888888,\"#fdca26\"],[1.0,\"#f0f921\"]]}],\"heatmap\":[{\"type\":\"heatmap\",\"colorbar\":{\"outlinewidth\":0,\"ticks\":\"\"},\"colorscale\":[[0.0,\"#0d0887\"],[0.1111111111111111,\"#46039f\"],[0.2222222222222222,\"#7201a8\"],[0.3333333333333333,\"#9c179e\"],[0.4444444444444444,\"#bd3786\"],[0.5555555555555556,\"#d8576b\"],[0.6666666666666666,\"#ed7953\"],[0.7777777777777778,\"#fb9f3a\"],[0.8888888888888888,\"#fdca26\"],[1.0,\"#f0f921\"]]}],\"heatmapgl\":[{\"type\":\"heatmapgl\",\"colorbar\":{\"outlinewidth\":0,\"ticks\":\"\"},\"colorscale\":[[0.0,\"#0d0887\"],[0.1111111111111111,\"#46039f\"],[0.2222222222222222,\"#7201a8\"],[0.3333333333333333,\"#9c179e\"],[0.4444444444444444,\"#bd3786\"],[0.5555555555555556,\"#d8576b\"],[0.6666666666666666,\"#ed7953\"],[0.7777777777777778,\"#fb9f3a\"],[0.8888888888888888,\"#fdca26\"],[1.0,\"#f0f921\"]]}],\"contourcarpet\":[{\"type\":\"contourcarpet\",\"colorbar\":{\"outlinewidth\":0,\"ticks\":\"\"}}],\"contour\":[{\"type\":\"contour\",\"colorbar\":{\"outlinewidth\":0,\"ticks\":\"\"},\"colorscale\":[[0.0,\"#0d0887\"],[0.1111111111111111,\"#46039f\"],[0.2222222222222222,\"#7201a8\"],[0.3333333333333333,\"#9c179e\"],[0.4444444444444444,\"#bd3786\"],[0.5555555555555556,\"#d8576b\"],[0.6666666666666666,\"#ed7953\"],[0.7777777777777778,\"#fb9f3a\"],[0.8888888888888888,\"#fdca26\"],[1.0,\"#f0f921\"]]}],\"surface\":[{\"type\":\"surface\",\"colorbar\":{\"outlinewidth\":0,\"ticks\":\"\"},\"colorscale\":[[0.0,\"#0d0887\"],[0.1111111111111111,\"#46039f\"],[0.2222222222222222,\"#7201a8\"],[0.3333333333333333,\"#9c179e\"],[0.4444444444444444,\"#bd3786\"],[0.5555555555555556,\"#d8576b\"],[0.6666666666666666,\"#ed7953\"],[0.7777777777777778,\"#fb9f3a\"],[0.8888888888888888,\"#fdca26\"],[1.0,\"#f0f921\"]]}],\"mesh3d\":[{\"type\":\"mesh3d\",\"colorbar\":{\"outlinewidth\":0,\"ticks\":\"\"}}],\"scatter\":[{\"fillpattern\":{\"fillmode\":\"overlay\",\"size\":10,\"solidity\":0.2},\"type\":\"scatter\"}],\"parcoords\":[{\"type\":\"parcoords\",\"line\":{\"colorbar\":{\"outlinewidth\":0,\"ticks\":\"\"}}}],\"scatterpolargl\":[{\"type\":\"scatterpolargl\",\"marker\":{\"colorbar\":{\"outlinewidth\":0,\"ticks\":\"\"}}}],\"bar\":[{\"error_x\":{\"color\":\"#2a3f5f\"},\"error_y\":{\"color\":\"#2a3f5f\"},\"marker\":{\"line\":{\"color\":\"#E5ECF6\",\"width\":0.5},\"pattern\":{\"fillmode\":\"overlay\",\"size\":10,\"solidity\":0.2}},\"type\":\"bar\"}],\"scattergeo\":[{\"type\":\"scattergeo\",\"marker\":{\"colorbar\":{\"outlinewidth\":0,\"ticks\":\"\"}}}],\"scatterpolar\":[{\"type\":\"scatterpolar\",\"marker\":{\"colorbar\":{\"outlinewidth\":0,\"ticks\":\"\"}}}],\"histogram\":[{\"marker\":{\"pattern\":{\"fillmode\":\"overlay\",\"size\":10,\"solidity\":0.2}},\"type\":\"histogram\"}],\"scattergl\":[{\"type\":\"scattergl\",\"marker\":{\"colorbar\":{\"outlinewidth\":0,\"ticks\":\"\"}}}],\"scatter3d\":[{\"type\":\"scatter3d\",\"line\":{\"colorbar\":{\"outlinewidth\":0,\"ticks\":\"\"}},\"marker\":{\"colorbar\":{\"outlinewidth\":0,\"ticks\":\"\"}}}],\"scattermapbox\":[{\"type\":\"scattermapbox\",\"marker\":{\"colorbar\":{\"outlinewidth\":0,\"ticks\":\"\"}}}],\"scatterternary\":[{\"type\":\"scatterternary\",\"marker\":{\"colorbar\":{\"outlinewidth\":0,\"ticks\":\"\"}}}],\"scattercarpet\":[{\"type\":\"scattercarpet\",\"marker\":{\"colorbar\":{\"outlinewidth\":0,\"ticks\":\"\"}}}],\"carpet\":[{\"aaxis\":{\"endlinecolor\":\"#2a3f5f\",\"gridcolor\":\"white\",\"linecolor\":\"white\",\"minorgridcolor\":\"white\",\"startlinecolor\":\"#2a3f5f\"},\"baxis\":{\"endlinecolor\":\"#2a3f5f\",\"gridcolor\":\"white\",\"linecolor\":\"white\",\"minorgridcolor\":\"white\",\"startlinecolor\":\"#2a3f5f\"},\"type\":\"carpet\"}],\"table\":[{\"cells\":{\"fill\":{\"color\":\"#EBF0F8\"},\"line\":{\"color\":\"white\"}},\"header\":{\"fill\":{\"color\":\"#C8D4E3\"},\"line\":{\"color\":\"white\"}},\"type\":\"table\"}],\"barpolar\":[{\"marker\":{\"line\":{\"color\":\"#E5ECF6\",\"width\":0.5},\"pattern\":{\"fillmode\":\"overlay\",\"size\":10,\"solidity\":0.2}},\"type\":\"barpolar\"}],\"pie\":[{\"automargin\":true,\"type\":\"pie\"}]},\"layout\":{\"autotypenumbers\":\"strict\",\"colorway\":[\"#636efa\",\"#EF553B\",\"#00cc96\",\"#ab63fa\",\"#FFA15A\",\"#19d3f3\",\"#FF6692\",\"#B6E880\",\"#FF97FF\",\"#FECB52\"],\"font\":{\"color\":\"#2a3f5f\"},\"hovermode\":\"closest\",\"hoverlabel\":{\"align\":\"left\"},\"paper_bgcolor\":\"white\",\"plot_bgcolor\":\"#E5ECF6\",\"polar\":{\"bgcolor\":\"#E5ECF6\",\"angularaxis\":{\"gridcolor\":\"white\",\"linecolor\":\"white\",\"ticks\":\"\"},\"radialaxis\":{\"gridcolor\":\"white\",\"linecolor\":\"white\",\"ticks\":\"\"}},\"ternary\":{\"bgcolor\":\"#E5ECF6\",\"aaxis\":{\"gridcolor\":\"white\",\"linecolor\":\"white\",\"ticks\":\"\"},\"baxis\":{\"gridcolor\":\"white\",\"linecolor\":\"white\",\"ticks\":\"\"},\"caxis\":{\"gridcolor\":\"white\",\"linecolor\":\"white\",\"ticks\":\"\"}},\"coloraxis\":{\"colorbar\":{\"outlinewidth\":0,\"ticks\":\"\"}},\"colorscale\":{\"sequential\":[[0.0,\"#0d0887\"],[0.1111111111111111,\"#46039f\"],[0.2222222222222222,\"#7201a8\"],[0.3333333333333333,\"#9c179e\"],[0.4444444444444444,\"#bd3786\"],[0.5555555555555556,\"#d8576b\"],[0.6666666666666666,\"#ed7953\"],[0.7777777777777778,\"#fb9f3a\"],[0.8888888888888888,\"#fdca26\"],[1.0,\"#f0f921\"]],\"sequentialminus\":[[0.0,\"#0d0887\"],[0.1111111111111111,\"#46039f\"],[0.2222222222222222,\"#7201a8\"],[0.3333333333333333,\"#9c179e\"],[0.4444444444444444,\"#bd3786\"],[0.5555555555555556,\"#d8576b\"],[0.6666666666666666,\"#ed7953\"],[0.7777777777777778,\"#fb9f3a\"],[0.8888888888888888,\"#fdca26\"],[1.0,\"#f0f921\"]],\"diverging\":[[0,\"#8e0152\"],[0.1,\"#c51b7d\"],[0.2,\"#de77ae\"],[0.3,\"#f1b6da\"],[0.4,\"#fde0ef\"],[0.5,\"#f7f7f7\"],[0.6,\"#e6f5d0\"],[0.7,\"#b8e186\"],[0.8,\"#7fbc41\"],[0.9,\"#4d9221\"],[1,\"#276419\"]]},\"xaxis\":{\"gridcolor\":\"white\",\"linecolor\":\"white\",\"ticks\":\"\",\"title\":{\"standoff\":15},\"zerolinecolor\":\"white\",\"automargin\":true,\"zerolinewidth\":2},\"yaxis\":{\"gridcolor\":\"white\",\"linecolor\":\"white\",\"ticks\":\"\",\"title\":{\"standoff\":15},\"zerolinecolor\":\"white\",\"automargin\":true,\"zerolinewidth\":2},\"scene\":{\"xaxis\":{\"backgroundcolor\":\"#E5ECF6\",\"gridcolor\":\"white\",\"linecolor\":\"white\",\"showbackground\":true,\"ticks\":\"\",\"zerolinecolor\":\"white\",\"gridwidth\":2},\"yaxis\":{\"backgroundcolor\":\"#E5ECF6\",\"gridcolor\":\"white\",\"linecolor\":\"white\",\"showbackground\":true,\"ticks\":\"\",\"zerolinecolor\":\"white\",\"gridwidth\":2},\"zaxis\":{\"backgroundcolor\":\"#E5ECF6\",\"gridcolor\":\"white\",\"linecolor\":\"white\",\"showbackground\":true,\"ticks\":\"\",\"zerolinecolor\":\"white\",\"gridwidth\":2}},\"shapedefaults\":{\"line\":{\"color\":\"#2a3f5f\"}},\"annotationdefaults\":{\"arrowcolor\":\"#2a3f5f\",\"arrowhead\":0,\"arrowwidth\":1},\"geo\":{\"bgcolor\":\"white\",\"landcolor\":\"#E5ECF6\",\"subunitcolor\":\"white\",\"showland\":true,\"showlakes\":true,\"lakecolor\":\"white\"},\"title\":{\"x\":0.05},\"mapbox\":{\"style\":\"light\"}}},\"xaxis\":{\"anchor\":\"y\",\"domain\":[0.0,1.0],\"title\":{\"text\":\"Year\"}},\"yaxis\":{\"anchor\":\"x\",\"domain\":[0.0,1.0],\"title\":{\"text\":\"Population\"}},\"legend\":{\"title\":{\"text\":\"County\"},\"tracegroupgap\":0},\"title\":{\"text\":\"Population per County per Year\"}},                        {\"responsive\": true}                    ).then(function(){\n",
       "                            \n",
       "var gd = document.getElementById('a57ed83a-059f-48ce-a7e6-2ec6d1c4a627');\n",
       "var x = new MutationObserver(function (mutations, observer) {{\n",
       "        var display = window.getComputedStyle(gd).display;\n",
       "        if (!display || display === 'none') {{\n",
       "            console.log([gd, 'removed!']);\n",
       "            Plotly.purge(gd);\n",
       "            observer.disconnect();\n",
       "        }}\n",
       "}});\n",
       "\n",
       "// Listen for the removal of the full notebook cells\n",
       "var notebookContainer = gd.closest('#notebook-container');\n",
       "if (notebookContainer) {{\n",
       "    x.observe(notebookContainer, {childList: true});\n",
       "}}\n",
       "\n",
       "// Listen for the clearing of the current output cell\n",
       "var outputEl = gd.closest('.output');\n",
       "if (outputEl) {{\n",
       "    x.observe(outputEl, {childList: true});\n",
       "}}\n",
       "\n",
       "                        })                };                });            </script>        </div>"
      ]
     },
     "metadata": {},
     "output_type": "display_data"
    }
   ],
   "source": [
    "import pandas as pd\n",
    "import plotly.express as px\n",
    "\n",
    "countyPop = {\n",
    "    'County': ['Middlesex', 'Middlesex', 'Middlesex', 'Middlesex', 'Middlesex', 'Middlesex', \n",
    "               'Worcester', 'Worcester', 'Worcester', 'Worcester', 'Worcester', 'Worcester', \n",
    "               'Suffolk', 'Suffolk', 'Suffolk', 'Suffolk', 'Suffolk', 'Suffolk', \n",
    "               'Norfolk', 'Norfolk', 'Norfolk', 'Norfolk', 'Norfolk', 'Norfolk'],\n",
    "    'Population': ['1,609,000', '1,611,000', '1,609,000', '1,615,000', '1,617,000', '1,600,000', \n",
    "                   '828,600', '829,300', '859,700', '862,200', '862,900', '866,900', \n",
    "                   '804,000', '805,900', '797,200', '774,500', '768,800', '768,400', \n",
    "                   '703,600', '707,200', '724,600', '724,500', '725,500', '725,000'],\n",
    "    'Year': [2018, 2019, 2020, 2021, 2022, 2023, 2018, 2019, 2020, 2021, 2022, 2023, \n",
    "             2018, 2019, 2020, 2021, 2022, 2023, 2018, 2019, 2020, 2021, 2022, 2023]\n",
    "}\n",
    "\n",
    "# Convert population to numeric\n",
    "countyPop['Population'] = [int(pop.replace(',', '')) for pop in countyPop['Population']]\n",
    "\n",
    "# Create DataFrame\n",
    "df = pd.DataFrame(countyPop)\n",
    "\n",
    "# Plotting the multi-series line chart with plotly\n",
    "fig = px.line(df, x='Year', y='Population', color='County', title='Population per County per Year')\n",
    "\n",
    "# Set labels\n",
    "fig.update_layout(xaxis_title='Year', yaxis_title='Population')\n",
    "\n",
    "# Show the plot\n",
    "fig.show()"
   ]
  },
  {
   "cell_type": "code",
   "execution_count": 19,
   "id": "044d5b85",
   "metadata": {},
   "outputs": [
    {
     "data": {
      "image/png": "[encoded data removed]",
      "text/plain": [
       "<Figure size 1200x800 with 1 Axes>"
      ]
     },
     "metadata": {},
     "output_type": "display_data"
    }
   ],
   "source": [
    "countyPop = {\n",
    "    'County': ['Middlesex', 'Middlesex', 'Middlesex', 'Middlesex', 'Middlesex', 'Middlesex', 'Worcester', 'Worcester', 'Worcester', 'Worcester', 'Worcester', 'Worcester', 'Suffolk', 'Suffolk', 'Suffolk', 'Suffolk', 'Suffolk', 'Suffolk', 'Norfolk', 'Norfolk', 'Norfolk', 'Norfolk', 'Norfolk', 'Norfolk'],\n",
    "    'Population': ['1,609,000', '1,611,000', '1,609,000', '1,615,000', '1,617,000', '1,600,000', '828,600', '829,300', '859,700', '862,200', '862,900', '866,900', '804,000', '805,900', '797,200', '774,500', '768,800', '768,400', '703,600', '707,200', '724,600', '724,500', '725,500', '725,000'],\n",
    "    'Year': [2018, 2019, 2020, 2021, 2022, 2023, 2018, 2019, 2020, 2021, 2022, 2023, 2018, 2019, 2020, 2021, 2022, 2023, 2018, 2019, 2020, 2021, 2022, 2023],\n",
    "#     'Growth': ['0.00%', '0.12%', '-0.12%', '0.37%', '0.12%', '-1.05%', '0.00%', '0.08%', '3.67%', '0.29%', '0.08%', '0.46%', '0.00%', '0.24%', '-1.08%', '-2.85%', '-0.74%', '-0.05%', '0.00%', '0.51%', '2.46%', '-0.01%', '0.14%', '-0.07%']\n",
    "}\n",
    "\n",
    "# Convert population to numeric\n",
    "countyPop['Population'] = [int(pop.replace(',', '')) for pop in countyPop['Population']]\n",
    "\n",
    "# Create DataFrame\n",
    "df = pd.DataFrame(countyPop)\n",
    "\n",
    "# Grouping by 'County' and 'Year' and summing the 'Population' values\n",
    "grouped_df = df.groupby(['County', 'Year'])['Population'].sum().unstack()\n",
    "\n",
    "# Plotting the bar chart\n",
    "grouped_df.plot(kind='barh', figsize=(12, 8))\n",
    "\n",
    "# Adding labels and title\n",
    "plt.xlabel('Population')\n",
    "plt.ylabel('Counties')\n",
    "plt.title('Population per County per Year')\n",
    "\n",
    "# Display the plot\n",
    "plt.legend(title='County')\n",
    "plt.show()"
   ]
  },
  {
   "cell_type": "code",
   "execution_count": 23,
   "id": "cd808ee7",
   "metadata": {},
   "outputs": [],
   "source": [
    "def plot_linear_regression(x_values, y_values, title, text_coordinates):\n",
    "    \n",
    "    # Compute linear regression\n",
    "    (slope, intercept, rvalue, pvalue, stderr) = linregress(x_values, y_values)\n",
    "    regress_values = x_values * slope + intercept\n",
    "    line_eq = \"y = \" + str(round(slope,2)) + \"x + \" + str(round(intercept,2))\n",
    "    # Plot\n",
    "    plt.scatter(x_values,y_values)\n",
    "    plt.plot(x_values,regress_values,\"r-\")\n",
    "    plt.annotate(line_eq,text_coordinates,fontsize=15,color=\"red\")\n",
    "    plt.xlabel(\"Years\")\n",
    "    plt.ylabel('Streams')\n",
    "    print(f\"The r-value is: {rvalue**2}\")\n",
    "    \n",
    "    plt.savefig('regress_Stream_Pre_Post.jpeg')\n",
    "    \n",
    "    plt.show()"
   ]
  },
  {
   "cell_type": "code",
   "execution_count": null,
   "id": "a3bdc7e8",
   "metadata": {},
   "outputs": [],
   "source": []
  },
  {
   "cell_type": "code",
   "execution_count": null,
   "id": "eb79b6d5",
   "metadata": {},
   "outputs": [],
   "source": []
  },
  {
   "cell_type": "code",
   "execution_count": 21,
   "id": "44bddefd",
   "metadata": {},
   "outputs": [],
   "source": [
    "## Correlation between county population and Cannabis Dispensaries"
   ]
  }
 ],
 "metadata": {
  "kernelspec": {
   "display_name": "Python 3 (ipykernel)",
   "language": "python",
   "name": "python3"
  },
  "language_info": {
   "codemirror_mode": {
    "name": "ipython",
    "version": 3
   },
   "file_extension": ".py",
   "mimetype": "text/x-python",
   "name": "python",
   "nbconvert_exporter": "python",
   "pygments_lexer": "ipython3",
   "version": "3.11.5"
  }
 },
 "nbformat": 4,
 "nbformat_minor": 5
}
